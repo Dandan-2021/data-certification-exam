{
 "cells": [
  {
   "cell_type": "markdown",
   "metadata": {},
   "source": [
    "# TV shows Popularity Predictor (39%)\n",
    "\n",
    "The goal of this challenge is to create a model that predicts the `popularity` of a movie or TV show\n",
    "\n",
    "<img src=\"image.jpg\" width=300 />\n",
    "\n",
    "\n",
    "\n",
    "\n",
    "The dataset contains a list of movies and TV shows with the following characteristics:\n",
    "- `title`: title of the movie in english\n",
    "- `original_title`: original title of the movie \n",
    "- `duration_min`: duration of the movie in minutes\n",
    "- `popularity`: popularity of the movie in terms of review scores\n",
    "- `release_date`: release date\n",
    "- `description`: short summary of the movie\n",
    "- `budget`: budget spent to produce the movie in USD\n",
    "- `revenue`: movie revenue in USD \n",
    "- `original_language`: original language \n",
    "- `status`: is the movie already released or not\n",
    "- `number_of_awards_won`: number of awards won for the movie\n",
    "- `number_of_nominations`: number of nominations\n",
    "- `has_collection`: if the movie is part of a sequel or not\n",
    "- `all_genres`: genres that described the movie (can be zero, one or many!) \n",
    "- `top_countries`: countries where the movie was produced (can be zero, one or many!) \n",
    "- `number_of_top_productions`: number of top production companies that produced the film if any. \n",
    "Top production companies includes: Warner Bros, Universal Pictures, Paramount Pictures, Canal+, etc...\n",
    "- `available_in_english`: whether the movie is available in english or not"
   ]
  },
  {
   "cell_type": "markdown",
   "metadata": {},
   "source": [
    "## Imports\n",
    "\n",
    "Run the following cell to load the basic packages:"
   ]
  },
  {
   "cell_type": "code",
   "execution_count": 1,
   "metadata": {
    "ExecuteTime": {
     "end_time": "2021-06-29T17:29:05.325249Z",
     "start_time": "2021-06-29T17:29:04.415422Z"
    }
   },
   "outputs": [
    {
     "name": "stderr",
     "output_type": "stream",
     "text": [
      "/Users/Dandan/.pyenv/versions/3.8.6/envs/lewagon/lib/python3.8/site-packages/pandas/compat/__init__.py:97: UserWarning: Could not import the lzma module. Your installed Python is incomplete. Attempting to use lzma compression will result in a RuntimeError.\n",
      "  warnings.warn(msg)\n"
     ]
    }
   ],
   "source": [
    "import numpy as np\n",
    "import pandas as pd\n",
    "import matplotlib.pyplot as plt\n",
    "import seaborn as sns\n",
    "from nbresult import ChallengeResult"
   ]
  },
  {
   "cell_type": "markdown",
   "metadata": {},
   "source": [
    "## Data collection\n",
    "\n",
    "📝 **Load the `movie_popularity.csv` dataset from the provided this [URL](https://wagon-public-datasets.s3.amazonaws.com/certification_france_2021_q2/tv_movies_popularity.csv)**\n",
    "- First, check and remove the rows that may be complete duplicate from one another (we never know!)\n",
    "- Then, drop the columns that have too much missing values\n",
    "- Finally, drop the few remaining rows that have missing values\n",
    "- Store the result in a `DataFrame` named `data`"
   ]
  },
  {
   "cell_type": "code",
   "execution_count": 2,
   "metadata": {
    "ExecuteTime": {
     "end_time": "2021-06-29T17:29:09.664618Z",
     "start_time": "2021-06-29T17:29:05.328223Z"
    },
    "slideshow": {
     "slide_type": "notes"
    },
    "tags": [
     "challengify"
    ]
   },
   "outputs": [
    {
     "data": {
      "text/plain": [
       "(6864, 17)"
      ]
     },
     "execution_count": 2,
     "metadata": {},
     "output_type": "execute_result"
    }
   ],
   "source": [
    "data = pd.read_csv('https://wagon-public-datasets.s3.amazonaws.com/certification_france_2021_q2/tv_movies_popularity.csv')\n",
    "data.shape"
   ]
  },
  {
   "cell_type": "code",
   "execution_count": 3,
   "metadata": {},
   "outputs": [
    {
     "data": {
      "text/plain": [
       "400"
      ]
     },
     "execution_count": 3,
     "metadata": {},
     "output_type": "execute_result"
    }
   ],
   "source": [
    "# calculate duplicates\n",
    "duplicate_count=data.duplicated().sum()\n",
    "duplicate_count"
   ]
  },
  {
   "cell_type": "code",
   "execution_count": 4,
   "metadata": {},
   "outputs": [
    {
     "data": {
      "text/plain": [
       "(6464, 17)"
      ]
     },
     "execution_count": 4,
     "metadata": {},
     "output_type": "execute_result"
    }
   ],
   "source": [
    "# remove duplicates\n",
    "data = data.drop_duplicates().reset_index(drop=True)\n",
    "data.shape"
   ]
  },
  {
   "cell_type": "code",
   "execution_count": 5,
   "metadata": {},
   "outputs": [
    {
     "data": {
      "text/plain": [
       "revenue           0.595\n",
       "title             0.000\n",
       "original_title    0.000\n",
       "dtype: float64"
      ]
     },
     "execution_count": 5,
     "metadata": {},
     "output_type": "execute_result"
    }
   ],
   "source": [
    "# identify the columns having too much missing values\n",
    "round(data.isna().sum().sort_values(ascending = False)/len(data),3).head(3)"
   ]
  },
  {
   "cell_type": "code",
   "execution_count": 6,
   "metadata": {},
   "outputs": [
    {
     "data": {
      "text/plain": [
       "(6464, 16)"
      ]
     },
     "execution_count": 6,
     "metadata": {},
     "output_type": "execute_result"
    }
   ],
   "source": [
    "# remove column 'revenue'\n",
    "data=data.drop(columns='revenue')\n",
    "data.shape"
   ]
  },
  {
   "cell_type": "code",
   "execution_count": 7,
   "metadata": {},
   "outputs": [
    {
     "data": {
      "text/plain": [
       "<bound method Series.sort_values of original_title               0\n",
       "title                        1\n",
       "popularity                   0\n",
       "release_date                 0\n",
       "duration_min                 0\n",
       "description                  0\n",
       "budget                       0\n",
       "original_language            0\n",
       "status                       0\n",
       "number_of_awards_won         0\n",
       "number_of_nominations        0\n",
       "has_collection               0\n",
       "all_genres                   0\n",
       "top_countries                0\n",
       "number_of_top_productions    0\n",
       "available_in_english         0\n",
       "dtype: int64>"
      ]
     },
     "execution_count": 7,
     "metadata": {},
     "output_type": "execute_result"
    }
   ],
   "source": [
    "# identify the row(s) with missing values\n",
    "data.isna().sum().sort_values"
   ]
  },
  {
   "cell_type": "code",
   "execution_count": 8,
   "metadata": {},
   "outputs": [
    {
     "data": {
      "text/html": [
       "<div>\n",
       "<style scoped>\n",
       "    .dataframe tbody tr th:only-of-type {\n",
       "        vertical-align: middle;\n",
       "    }\n",
       "\n",
       "    .dataframe tbody tr th {\n",
       "        vertical-align: top;\n",
       "    }\n",
       "\n",
       "    .dataframe thead th {\n",
       "        text-align: right;\n",
       "    }\n",
       "</style>\n",
       "<table border=\"1\" class=\"dataframe\">\n",
       "  <thead>\n",
       "    <tr style=\"text-align: right;\">\n",
       "      <th></th>\n",
       "      <th>original_title</th>\n",
       "      <th>title</th>\n",
       "      <th>popularity</th>\n",
       "      <th>release_date</th>\n",
       "      <th>duration_min</th>\n",
       "      <th>description</th>\n",
       "      <th>budget</th>\n",
       "      <th>original_language</th>\n",
       "      <th>status</th>\n",
       "      <th>number_of_awards_won</th>\n",
       "      <th>number_of_nominations</th>\n",
       "      <th>has_collection</th>\n",
       "      <th>all_genres</th>\n",
       "      <th>top_countries</th>\n",
       "      <th>number_of_top_productions</th>\n",
       "      <th>available_in_english</th>\n",
       "    </tr>\n",
       "  </thead>\n",
       "  <tbody>\n",
       "    <tr>\n",
       "      <th>5783</th>\n",
       "      <td>Barefoot</td>\n",
       "      <td>NaN</td>\n",
       "      <td>5.939334</td>\n",
       "      <td>2014-02-02</td>\n",
       "      <td>90.0</td>\n",
       "      <td>The \"black sheep\" son of a wealthy family meet...</td>\n",
       "      <td>6000000</td>\n",
       "      <td>en</td>\n",
       "      <td>Released</td>\n",
       "      <td>0</td>\n",
       "      <td>1</td>\n",
       "      <td>0</td>\n",
       "      <td>Comedy, Drama, Romance</td>\n",
       "      <td>other countries</td>\n",
       "      <td>0</td>\n",
       "      <td>False</td>\n",
       "    </tr>\n",
       "  </tbody>\n",
       "</table>\n",
       "</div>"
      ],
      "text/plain": [
       "     original_title title  popularity release_date  duration_min  \\\n",
       "5783       Barefoot   NaN    5.939334   2014-02-02          90.0   \n",
       "\n",
       "                                            description   budget  \\\n",
       "5783  The \"black sheep\" son of a wealthy family meet...  6000000   \n",
       "\n",
       "     original_language    status  number_of_awards_won  number_of_nominations  \\\n",
       "5783                en  Released                     0                      1   \n",
       "\n",
       "      has_collection              all_genres    top_countries  \\\n",
       "5783               0  Comedy, Drama, Romance  other countries   \n",
       "\n",
       "      number_of_top_productions  available_in_english  \n",
       "5783                          0                 False  "
      ]
     },
     "execution_count": 8,
     "metadata": {},
     "output_type": "execute_result"
    }
   ],
   "source": [
    "data[data['title'].isna()]"
   ]
  },
  {
   "cell_type": "code",
   "execution_count": 9,
   "metadata": {},
   "outputs": [
    {
     "data": {
      "text/plain": [
       "(6464, 16)"
      ]
     },
     "execution_count": 9,
     "metadata": {},
     "output_type": "execute_result"
    }
   ],
   "source": [
    "# remove the row with missing value\n",
    "data.drop(data.index[[5783]])\n",
    "data.shape"
   ]
  },
  {
   "cell_type": "markdown",
   "metadata": {},
   "source": [
    "### 🧪 Run the following cell to save your results"
   ]
  },
  {
   "cell_type": "code",
   "execution_count": 10,
   "metadata": {
    "ExecuteTime": {
     "end_time": "2021-06-29T17:29:09.754301Z",
     "start_time": "2021-06-29T17:29:09.746171Z"
    }
   },
   "outputs": [],
   "source": [
    "from nbresult import ChallengeResult\n",
    "\n",
    "result = ChallengeResult(\n",
    "    \"data_cleaning\",\n",
    "    columns=data.columns,\n",
    "    cleaning=sum(data.isnull().sum()),\n",
    "    shape=data.shape)\n",
    "result.write()"
   ]
  },
  {
   "cell_type": "markdown",
   "metadata": {},
   "source": [
    "## Baseline model"
   ]
  },
  {
   "cell_type": "markdown",
   "metadata": {},
   "source": [
    "### The metric"
   ]
  },
  {
   "cell_type": "markdown",
   "metadata": {},
   "source": [
    "📝 **We want to predict `popularity`: Start by plotting a histogram of the target to visualize it**"
   ]
  },
  {
   "cell_type": "markdown",
   "metadata": {},
   "source": [
    "📝 **Which sklearn's scoring [metric](https://scikit-learn.org/stable/modules/model_evaluation.html) should we use if we want it to:**\n",
    "\n",
    "- Be better when greater (i.e. metric_good_model > metric_bad_model)\n",
    "- Penalize **more** an error between 10 and 20 compared with an error between 110 and 120\n",
    "- Said otherwise, what matter should be the **relative error ratio**, more than the absolute error difference\n",
    "\n",
    "Hint: the histogram plotted above should give you some intuition about it\n",
    "\n",
    "👉 Store its exact [sklearn scoring name](https://scikit-learn.org/stable/modules/model_evaluation.html) as `string` in the variable `scoring` below.\n",
    "\n",
    "🚨 You must use this metric for the rest of the challenge"
   ]
  },
  {
   "cell_type": "code",
   "execution_count": 11,
   "metadata": {},
   "outputs": [
    {
     "name": "stderr",
     "output_type": "stream",
     "text": [
      "/Users/Dandan/.pyenv/versions/3.8.6/envs/lewagon/lib/python3.8/site-packages/seaborn/distributions.py:2557: FutureWarning: `distplot` is a deprecated function and will be removed in a future version. Please adapt your code to use either `displot` (a figure-level function with similar flexibility) or `histplot` (an axes-level function for histograms).\n",
      "  warnings.warn(msg, FutureWarning)\n"
     ]
    },
    {
     "data": {
      "image/png": "[encoded data removed]",
      "text/plain": [
       "<Figure size 432x288 with 1 Axes>"
      ]
     },
     "metadata": {
      "needs_background": "light"
     },
     "output_type": "display_data"
    }
   ],
   "source": [
    "fig, ax = plt.subplots()\n",
    "sns.distplot(data['popularity'], ax=ax)\n",
    "ax.set_xlim(-20,150)\n",
    "plt.show();"
   ]
  },
  {
   "cell_type": "code",
   "execution_count": 12,
   "metadata": {
    "ExecuteTime": {
     "end_time": "2021-06-29T17:29:13.047468Z",
     "start_time": "2021-06-29T17:29:13.045265Z"
    },
    "slideshow": {
     "slide_type": "notes"
    },
    "tags": [
     "challengify"
    ]
   },
   "outputs": [],
   "source": [
    "# my choice of metric\n",
    "scoring = 'reg_mean_absolute_error'"
   ]
  },
  {
   "cell_type": "markdown",
   "metadata": {},
   "source": [
    "<details>\n",
    "    <summary>💡 Hint</summary>\n",
    "It is around here!\n",
    "<img src=\"scores.jpg\" width=200 height=400 />\n",
    "</details>"
   ]
  },
  {
   "cell_type": "markdown",
   "metadata": {},
   "source": [
    "### X,y"
   ]
  },
  {
   "cell_type": "markdown",
   "metadata": {},
   "source": [
    "**📝 Define `X` as the features Dataframe (keep all features) and `y` as the target Series.**"
   ]
  },
  {
   "cell_type": "code",
   "execution_count": 13,
   "metadata": {
    "ExecuteTime": {
     "end_time": "2021-06-29T17:29:13.054580Z",
     "start_time": "2021-06-29T17:29:13.049865Z"
    },
    "tags": [
     "challengify"
    ]
   },
   "outputs": [],
   "source": [
    "y = data['popularity']\n",
    "X = data.drop(columns=['popularity'])"
   ]
  },
  {
   "cell_type": "code",
   "execution_count": 14,
   "metadata": {},
   "outputs": [
    {
     "data": {
      "text/plain": [
       "(6464, 15)"
      ]
     },
     "execution_count": 14,
     "metadata": {},
     "output_type": "execute_result"
    }
   ],
   "source": [
    "X.shape"
   ]
  },
  {
   "cell_type": "code",
   "execution_count": 46,
   "metadata": {},
   "outputs": [],
   "source": [
    "# train_test_split\n",
    "from sklearn.model_selection import train_test_split\n",
    "\n",
    "X_train, X_test, y_train, y_test = train_test_split(X,y,test_size=0.3)"
   ]
  },
  {
   "cell_type": "markdown",
   "metadata": {},
   "source": [
    "### Basic pipeline"
   ]
  },
  {
   "cell_type": "markdown",
   "metadata": {},
   "source": [
    "📝 **Check unique values per features**"
   ]
  },
  {
   "cell_type": "code",
   "execution_count": 15,
   "metadata": {},
   "outputs": [
    {
     "data": {
      "text/plain": [
       "['original_title',\n",
       " 'title',\n",
       " 'release_date',\n",
       " 'duration_min',\n",
       " 'description',\n",
       " 'budget',\n",
       " 'original_language',\n",
       " 'status',\n",
       " 'number_of_awards_won',\n",
       " 'number_of_nominations',\n",
       " 'has_collection',\n",
       " 'all_genres',\n",
       " 'top_countries',\n",
       " 'number_of_top_productions',\n",
       " 'available_in_english']"
      ]
     },
     "execution_count": 15,
     "metadata": {},
     "output_type": "execute_result"
    }
   ],
   "source": [
    "features=list(X.columns)\n",
    "features"
   ]
  },
  {
   "cell_type": "code",
   "execution_count": 16,
   "metadata": {},
   "outputs": [
    {
     "data": {
      "text/plain": [
       "0    5073\n",
       "1    1391\n",
       "Name: has_collection, dtype: int64"
      ]
     },
     "execution_count": 16,
     "metadata": {},
     "output_type": "execute_result"
    }
   ],
   "source": [
    "X.has_collection.value_counts()"
   ]
  },
  {
   "cell_type": "code",
   "execution_count": 17,
   "metadata": {
    "ExecuteTime": {
     "end_time": "2021-06-29T17:29:13.074836Z",
     "start_time": "2021-06-29T17:29:13.062527Z"
    },
    "tags": [
     "challengify"
    ]
   },
   "outputs": [
    {
     "name": "stdout",
     "output_type": "stream",
     "text": [
      "['original_title'] has 6351 unique values\n",
      "['title'] has 6337 unique values\n",
      "['release_date'] has 4321 unique values\n",
      "['duration_min'] has 152 unique values\n",
      "['description'] has 6450 unique values\n",
      "['budget'] has 636 unique values\n",
      "['original_language'] has 42 unique values\n",
      "['status'] has 3 unique values\n",
      "['number_of_awards_won'] has 124 unique values\n",
      "['number_of_nominations'] has 180 unique values\n",
      "['has_collection'] has 2 unique values\n",
      "['all_genres'] has 745 unique values\n",
      "['top_countries'] has 320 unique values\n",
      "['number_of_top_productions'] has 5 unique values\n",
      "['available_in_english'] has 2 unique values\n"
     ]
    }
   ],
   "source": [
    "for feature in features:\n",
    "    print(f\"{[feature]} has {X[feature].nunique()} unique values\")"
   ]
  },
  {
   "cell_type": "code",
   "execution_count": 18,
   "metadata": {},
   "outputs": [
    {
     "data": {
      "text/plain": [
       "'for feature in features:\\n    print(X[feature].value_counts())\\n'"
      ]
     },
     "execution_count": 18,
     "metadata": {},
     "output_type": "execute_result"
    }
   ],
   "source": [
    "'''for feature in features:\n",
    "    print(X[feature].value_counts())\n",
    "'''"
   ]
  },
  {
   "cell_type": "markdown",
   "metadata": {},
   "source": [
    "In this baseline, let's forget about the columns below that are difficult to process"
   ]
  },
  {
   "cell_type": "code",
   "execution_count": 19,
   "metadata": {
    "ExecuteTime": {
     "end_time": "2021-06-29T17:29:13.102327Z",
     "start_time": "2021-06-29T17:29:13.099066Z"
    }
   },
   "outputs": [],
   "source": [
    "text = ['description', 'original_title', 'title']\n",
    "dates = ['release_date'] "
   ]
  },
  {
   "cell_type": "markdown",
   "metadata": {},
   "source": [
    "We will simply scale the numerical features and one-hot-encode the categorical ones remaining\n",
    "\n",
    "📝 **Prepare 2 `list`s of features names as `str`**:\n",
    "- `numerical` which contains **only** numerical features\n",
    "- `categorical` which contains **only** categorical features (exept text and dates above)"
   ]
  },
  {
   "cell_type": "code",
   "execution_count": 20,
   "metadata": {},
   "outputs": [
    {
     "data": {
      "text/plain": [
       "original_title                object\n",
       "title                         object\n",
       "popularity                   float64\n",
       "release_date                  object\n",
       "duration_min                 float64\n",
       "description                   object\n",
       "budget                         int64\n",
       "original_language             object\n",
       "status                        object\n",
       "number_of_awards_won           int64\n",
       "number_of_nominations          int64\n",
       "has_collection                 int64\n",
       "all_genres                    object\n",
       "top_countries                 object\n",
       "number_of_top_productions      int64\n",
       "available_in_english            bool\n",
       "dtype: object"
      ]
     },
     "execution_count": 20,
     "metadata": {},
     "output_type": "execute_result"
    }
   ],
   "source": [
    "data.dtypes"
   ]
  },
  {
   "cell_type": "code",
   "execution_count": 21,
   "metadata": {
    "ExecuteTime": {
     "end_time": "2021-06-29T17:29:13.107916Z",
     "start_time": "2021-06-29T17:29:13.104876Z"
    },
    "tags": [
     "challengify"
    ]
   },
   "outputs": [
    {
     "data": {
      "text/plain": [
       "Index(['duration_min', 'budget', 'number_of_awards_won',\n",
       "       'number_of_nominations', 'has_collection', 'number_of_top_productions'],\n",
       "      dtype='object')"
      ]
     },
     "execution_count": 21,
     "metadata": {},
     "output_type": "execute_result"
    }
   ],
   "source": [
    "numerical= X.select_dtypes(exclude=['object']).drop(columns='available_in_english').columns\n",
    "numerical"
   ]
  },
  {
   "cell_type": "code",
   "execution_count": 22,
   "metadata": {},
   "outputs": [
    {
     "data": {
      "text/html": [
       "<div>\n",
       "<style scoped>\n",
       "    .dataframe tbody tr th:only-of-type {\n",
       "        vertical-align: middle;\n",
       "    }\n",
       "\n",
       "    .dataframe tbody tr th {\n",
       "        vertical-align: top;\n",
       "    }\n",
       "\n",
       "    .dataframe thead th {\n",
       "        text-align: right;\n",
       "    }\n",
       "</style>\n",
       "<table border=\"1\" class=\"dataframe\">\n",
       "  <thead>\n",
       "    <tr style=\"text-align: right;\">\n",
       "      <th></th>\n",
       "      <th>duration_min</th>\n",
       "      <th>budget</th>\n",
       "      <th>number_of_awards_won</th>\n",
       "      <th>number_of_nominations</th>\n",
       "      <th>has_collection</th>\n",
       "      <th>number_of_top_productions</th>\n",
       "      <th>available_in_english</th>\n",
       "    </tr>\n",
       "  </thead>\n",
       "  <tbody>\n",
       "    <tr>\n",
       "      <th>0</th>\n",
       "      <td>93.0</td>\n",
       "      <td>14000000</td>\n",
       "      <td>0</td>\n",
       "      <td>2</td>\n",
       "      <td>1</td>\n",
       "      <td>3</td>\n",
       "      <td>True</td>\n",
       "    </tr>\n",
       "    <tr>\n",
       "      <th>1</th>\n",
       "      <td>113.0</td>\n",
       "      <td>40000000</td>\n",
       "      <td>1</td>\n",
       "      <td>2</td>\n",
       "      <td>1</td>\n",
       "      <td>1</td>\n",
       "      <td>True</td>\n",
       "    </tr>\n",
       "    <tr>\n",
       "      <th>2</th>\n",
       "      <td>105.0</td>\n",
       "      <td>3300000</td>\n",
       "      <td>97</td>\n",
       "      <td>145</td>\n",
       "      <td>0</td>\n",
       "      <td>0</td>\n",
       "      <td>True</td>\n",
       "    </tr>\n",
       "    <tr>\n",
       "      <th>3</th>\n",
       "      <td>122.0</td>\n",
       "      <td>1200000</td>\n",
       "      <td>23</td>\n",
       "      <td>18</td>\n",
       "      <td>0</td>\n",
       "      <td>0</td>\n",
       "      <td>True</td>\n",
       "    </tr>\n",
       "    <tr>\n",
       "      <th>4</th>\n",
       "      <td>92.0</td>\n",
       "      <td>14000000</td>\n",
       "      <td>0</td>\n",
       "      <td>6</td>\n",
       "      <td>0</td>\n",
       "      <td>0</td>\n",
       "      <td>True</td>\n",
       "    </tr>\n",
       "  </tbody>\n",
       "</table>\n",
       "</div>"
      ],
      "text/plain": [
       "   duration_min    budget  number_of_awards_won  number_of_nominations  \\\n",
       "0          93.0  14000000                     0                      2   \n",
       "1         113.0  40000000                     1                      2   \n",
       "2         105.0   3300000                    97                    145   \n",
       "3         122.0   1200000                    23                     18   \n",
       "4          92.0  14000000                     0                      6   \n",
       "\n",
       "   has_collection  number_of_top_productions  available_in_english  \n",
       "0               1                          3                  True  \n",
       "1               1                          1                  True  \n",
       "2               0                          0                  True  \n",
       "3               0                          0                  True  \n",
       "4               0                          0                  True  "
      ]
     },
     "execution_count": 22,
     "metadata": {},
     "output_type": "execute_result"
    }
   ],
   "source": [
    "X.select_dtypes(exclude=['object']).head()"
   ]
  },
  {
   "cell_type": "code",
   "execution_count": 23,
   "metadata": {},
   "outputs": [
    {
     "data": {
      "text/plain": [
       "Index(['original_language', 'status', 'all_genres', 'top_countries'], dtype='object')"
      ]
     },
     "execution_count": 23,
     "metadata": {},
     "output_type": "execute_result"
    }
   ],
   "source": [
    "categorical=X.drop(columns=numerical).drop(columns=text).drop(columns=dates).drop(columns='available_in_english').columns\n",
    "categorical"
   ]
  },
  {
   "cell_type": "markdown",
   "metadata": {},
   "source": [
    "### Pipelining\n",
    "\n",
    "You are going to build a basic pipeline made of a basic preprocessing and a trees-based model of your choice."
   ]
  },
  {
   "cell_type": "markdown",
   "metadata": {},
   "source": [
    "#### Preprocessing pipeline\n",
    "\n",
    "**📝 Create a basic preprocessing pipeline for the 2 types of features above:**\n",
    "- It should scale the `numerical` features\n",
    "- one-hot-encode the `categorical` and `boolean` features\n",
    "- drop the others\n",
    "- Store your pipeline in a `basic_preprocessing` variable"
   ]
  },
  {
   "cell_type": "code",
   "execution_count": 25,
   "metadata": {},
   "outputs": [
    {
     "name": "stderr",
     "output_type": "stream",
     "text": [
      "/Users/Dandan/.pyenv/versions/3.8.6/envs/lewagon/lib/python3.8/site-packages/seaborn/_decorators.py:36: FutureWarning: Pass the following variable as a keyword arg: x. From version 0.12, the only valid positional argument will be `data`, and passing other arguments without an explicit keyword will result in an error or misinterpretation.\n",
      "  warnings.warn(\n",
      "<ipython-input-25-621c277c94cf>:15: UserWarning: Matplotlib is currently using module://ipykernel.pylab.backend_inline, which is a non-GUI backend, so cannot show the figure.\n",
      "  fig.show()\n",
      "/Users/Dandan/.pyenv/versions/3.8.6/envs/lewagon/lib/python3.8/site-packages/seaborn/_decorators.py:36: FutureWarning: Pass the following variable as a keyword arg: x. From version 0.12, the only valid positional argument will be `data`, and passing other arguments without an explicit keyword will result in an error or misinterpretation.\n",
      "  warnings.warn(\n",
      "<ipython-input-25-621c277c94cf>:15: UserWarning: Matplotlib is currently using module://ipykernel.pylab.backend_inline, which is a non-GUI backend, so cannot show the figure.\n",
      "  fig.show()\n",
      "/Users/Dandan/.pyenv/versions/3.8.6/envs/lewagon/lib/python3.8/site-packages/seaborn/_decorators.py:36: FutureWarning: Pass the following variable as a keyword arg: x. From version 0.12, the only valid positional argument will be `data`, and passing other arguments without an explicit keyword will result in an error or misinterpretation.\n",
      "  warnings.warn(\n",
      "<ipython-input-25-621c277c94cf>:15: UserWarning: Matplotlib is currently using module://ipykernel.pylab.backend_inline, which is a non-GUI backend, so cannot show the figure.\n",
      "  fig.show()\n",
      "/Users/Dandan/.pyenv/versions/3.8.6/envs/lewagon/lib/python3.8/site-packages/seaborn/_decorators.py:36: FutureWarning: Pass the following variable as a keyword arg: x. From version 0.12, the only valid positional argument will be `data`, and passing other arguments without an explicit keyword will result in an error or misinterpretation.\n",
      "  warnings.warn(\n",
      "<ipython-input-25-621c277c94cf>:15: UserWarning: Matplotlib is currently using module://ipykernel.pylab.backend_inline, which is a non-GUI backend, so cannot show the figure.\n",
      "  fig.show()\n",
      "/Users/Dandan/.pyenv/versions/3.8.6/envs/lewagon/lib/python3.8/site-packages/seaborn/_decorators.py:36: FutureWarning: Pass the following variable as a keyword arg: x. From version 0.12, the only valid positional argument will be `data`, and passing other arguments without an explicit keyword will result in an error or misinterpretation.\n",
      "  warnings.warn(\n",
      "<ipython-input-25-621c277c94cf>:15: UserWarning: Matplotlib is currently using module://ipykernel.pylab.backend_inline, which is a non-GUI backend, so cannot show the figure.\n",
      "  fig.show()\n",
      "/Users/Dandan/.pyenv/versions/3.8.6/envs/lewagon/lib/python3.8/site-packages/seaborn/_decorators.py:36: FutureWarning: Pass the following variable as a keyword arg: x. From version 0.12, the only valid positional argument will be `data`, and passing other arguments without an explicit keyword will result in an error or misinterpretation.\n",
      "  warnings.warn(\n",
      "<ipython-input-25-621c277c94cf>:15: UserWarning: Matplotlib is currently using module://ipykernel.pylab.backend_inline, which is a non-GUI backend, so cannot show the figure.\n",
      "  fig.show()\n"
     ]
    },
    {
     "data": {
      "image/png": "[encoded data removed]",
      "text/plain": [
       "<Figure size 1080x360 with 2 Axes>"
      ]
     },
     "metadata": {
      "needs_background": "light"
     },
     "output_type": "display_data"
    },
    {
     "data": {
      "image/png": "[encoded data removed]",
      "text/plain": [
       "<Figure size 1080x360 with 2 Axes>"
      ]
     },
     "metadata": {
      "needs_background": "light"
     },
     "output_type": "display_data"
    },
    {
     "data": {
      "image/png": "[encoded data removed]",
      "text/plain": [
       "<Figure size 1080x360 with 2 Axes>"
      ]
     },
     "metadata": {
      "needs_background": "light"
     },
     "output_type": "display_data"
    },
    {
     "data": {
      "image/png": "[encoded data removed]",
      "text/plain": [
       "<Figure size 1080x360 with 2 Axes>"
      ]
     },
     "metadata": {
      "needs_background": "light"
     },
     "output_type": "display_data"
    },
    {
     "data": {
      "image/png": "[encoded data removed]",
      "text/plain": [
       "<Figure size 1080x360 with 2 Axes>"
      ]
     },
     "metadata": {
      "needs_background": "light"
     },
     "output_type": "display_data"
    },
    {
     "data": {
      "image/png": "[encoded data removed]",
      "text/plain": [
       "<Figure size 1080x360 with 2 Axes>"
      ]
     },
     "metadata": {
      "needs_background": "light"
     },
     "output_type": "display_data"
    }
   ],
   "source": [
    "# decide which scaler to use (many outliers)\n",
    "Numerical= X.select_dtypes(exclude=['object']).drop(columns='available_in_english')\n",
    "for numerical_feature in numerical:\n",
    "    \n",
    "    fig, ax =plt.subplots(1,2,figsize=(15,5))\n",
    "    \n",
    "    ax[0].set_title(f\"Distribution of: {numerical_feature}\")\n",
    "    sns.histplot(data = Numerical[numerical_feature], kde=True, ax=ax[0])\n",
    "    \n",
    "    ax[1].set_title(f\"Boxplot of: {numerical_feature}\")\n",
    "    sns.boxplot(Numerical[numerical_feature], ax=ax[1])\n",
    "    \n",
    "    # ax[2].set_title(f\"Gaussianity of: {numerical_feature}\")\n",
    "    # qqplot(Numerical[numerical_feature],line='s',ax=ax[2])\n",
    "    \n",
    "    fig.show()"
   ]
  },
  {
   "cell_type": "code",
   "execution_count": 27,
   "metadata": {},
   "outputs": [],
   "source": [
    "from sklearn.pipeline import Pipeline\n",
    "from sklearn.compose import ColumnTransformer\n",
    "from sklearn.compose import make_column_selector\n",
    "from sklearn.preprocessing import FunctionTransformer\n",
    "from sklearn.base import TransformerMixin, BaseEstimator\n",
    "\n",
    "from sklearn.preprocessing import RobustScaler\n",
    "from sklearn.preprocessing import OneHotEncoder"
   ]
  },
  {
   "cell_type": "code",
   "execution_count": 42,
   "metadata": {},
   "outputs": [],
   "source": [
    "pipe_num = Pipeline([\n",
    "    ('scaler', RobustScaler())\n",
    "    ])\n",
    "    \n",
    "pipe_cat = Pipeline([\n",
    "    ('ohe',OneHotEncoder(handle_unknown='ignore'))\n",
    "    ])\n",
    "\n",
    "# Paralellize \"num_transformer\" and \"cat_transformer\"\n",
    "preprocessor = ColumnTransformer([\n",
    "    ('num_transformer', pipe_num,numerical), \n",
    "    ('cat_transformer', pipe_cat,['original_language', 'status', 'all_genres', 'top_countries','available_in_english'])   \n",
    "    ])  \n",
    "#preprocessor.fit_transform(X)"
   ]
  },
  {
   "cell_type": "code",
   "execution_count": 29,
   "metadata": {},
   "outputs": [
    {
     "name": "stdout",
     "output_type": "stream",
     "text": [
      "Requirement already satisfied: scikit-learn in /Users/Dandan/.pyenv/versions/3.8.6/envs/lewagon/lib/python3.8/site-packages (0.24.2)\n",
      "Requirement already satisfied: joblib>=0.11 in /Users/Dandan/.pyenv/versions/3.8.6/envs/lewagon/lib/python3.8/site-packages (from scikit-learn) (1.0.1)\n",
      "Requirement already satisfied: threadpoolctl>=2.0.0 in /Users/Dandan/.pyenv/versions/3.8.6/envs/lewagon/lib/python3.8/site-packages (from scikit-learn) (2.1.0)\n",
      "Requirement already satisfied: scipy>=0.19.1 in /Users/Dandan/.pyenv/versions/3.8.6/envs/lewagon/lib/python3.8/site-packages (from scikit-learn) (1.6.2)\n",
      "Requirement already satisfied: numpy>=1.13.3 in /Users/Dandan/.pyenv/versions/3.8.6/envs/lewagon/lib/python3.8/site-packages (from scikit-learn) (1.18.5)\n",
      "\u001b[33mWARNING: You are using pip version 21.1.2; however, version 21.1.3 is available.\n",
      "You should consider upgrading via the '/Users/Dandan/.pyenv/versions/3.8.6/envs/lewagon/bin/python3.8 -m pip install --upgrade pip' command.\u001b[0m\n"
     ]
    }
   ],
   "source": [
    "!pip install --upgrade scikit-learn"
   ]
  },
  {
   "cell_type": "code",
   "execution_count": 43,
   "metadata": {
    "ExecuteTime": {
     "end_time": "2021-06-29T17:29:13.497003Z",
     "start_time": "2021-06-29T17:29:13.477748Z"
    },
    "tags": [
     "challengify"
    ]
   },
   "outputs": [
    {
     "data": {
      "text/html": [
       "<style>#sk-e452f168-4e72-4b1c-991c-2778c26256b3 {color: black;background-color: white;}#sk-e452f168-4e72-4b1c-991c-2778c26256b3 pre{padding: 0;}#sk-e452f168-4e72-4b1c-991c-2778c26256b3 div.sk-toggleable {background-color: white;}#sk-e452f168-4e72-4b1c-991c-2778c26256b3 label.sk-toggleable__label {cursor: pointer;display: block;width: 100%;margin-bottom: 0;padding: 0.2em 0.3em;box-sizing: border-box;text-align: center;}#sk-e452f168-4e72-4b1c-991c-2778c26256b3 div.sk-toggleable__content {max-height: 0;max-width: 0;overflow: hidden;text-align: left;background-color: #f0f8ff;}#sk-e452f168-4e72-4b1c-991c-2778c26256b3 div.sk-toggleable__content pre {margin: 0.2em;color: black;border-radius: 0.25em;background-color: #f0f8ff;}#sk-e452f168-4e72-4b1c-991c-2778c26256b3 input.sk-toggleable__control:checked~div.sk-toggleable__content {max-height: 200px;max-width: 100%;overflow: auto;}#sk-e452f168-4e72-4b1c-991c-2778c26256b3 div.sk-estimator input.sk-toggleable__control:checked~label.sk-toggleable__label {background-color: #d4ebff;}#sk-e452f168-4e72-4b1c-991c-2778c26256b3 div.sk-label input.sk-toggleable__control:checked~label.sk-toggleable__label {background-color: #d4ebff;}#sk-e452f168-4e72-4b1c-991c-2778c26256b3 input.sk-hidden--visually {border: 0;clip: rect(1px 1px 1px 1px);clip: rect(1px, 1px, 1px, 1px);height: 1px;margin: -1px;overflow: hidden;padding: 0;position: absolute;width: 1px;}#sk-e452f168-4e72-4b1c-991c-2778c26256b3 div.sk-estimator {font-family: monospace;background-color: #f0f8ff;margin: 0.25em 0.25em;border: 1px dotted black;border-radius: 0.25em;box-sizing: border-box;}#sk-e452f168-4e72-4b1c-991c-2778c26256b3 div.sk-estimator:hover {background-color: #d4ebff;}#sk-e452f168-4e72-4b1c-991c-2778c26256b3 div.sk-parallel-item::after {content: \"\";width: 100%;border-bottom: 1px solid gray;flex-grow: 1;}#sk-e452f168-4e72-4b1c-991c-2778c26256b3 div.sk-label:hover label.sk-toggleable__label {background-color: #d4ebff;}#sk-e452f168-4e72-4b1c-991c-2778c26256b3 div.sk-serial::before {content: \"\";position: absolute;border-left: 1px solid gray;box-sizing: border-box;top: 2em;bottom: 0;left: 50%;}#sk-e452f168-4e72-4b1c-991c-2778c26256b3 div.sk-serial {display: flex;flex-direction: column;align-items: center;background-color: white;}#sk-e452f168-4e72-4b1c-991c-2778c26256b3 div.sk-item {z-index: 1;}#sk-e452f168-4e72-4b1c-991c-2778c26256b3 div.sk-parallel {display: flex;align-items: stretch;justify-content: center;background-color: white;}#sk-e452f168-4e72-4b1c-991c-2778c26256b3 div.sk-parallel-item {display: flex;flex-direction: column;position: relative;background-color: white;}#sk-e452f168-4e72-4b1c-991c-2778c26256b3 div.sk-parallel-item:first-child::after {align-self: flex-end;width: 50%;}#sk-e452f168-4e72-4b1c-991c-2778c26256b3 div.sk-parallel-item:last-child::after {align-self: flex-start;width: 50%;}#sk-e452f168-4e72-4b1c-991c-2778c26256b3 div.sk-parallel-item:only-child::after {width: 0;}#sk-e452f168-4e72-4b1c-991c-2778c26256b3 div.sk-dashed-wrapped {border: 1px dashed gray;margin: 0.2em;box-sizing: border-box;padding-bottom: 0.1em;background-color: white;position: relative;}#sk-e452f168-4e72-4b1c-991c-2778c26256b3 div.sk-label label {font-family: monospace;font-weight: bold;background-color: white;display: inline-block;line-height: 1.2em;}#sk-e452f168-4e72-4b1c-991c-2778c26256b3 div.sk-label-container {position: relative;z-index: 2;text-align: center;}#sk-e452f168-4e72-4b1c-991c-2778c26256b3 div.sk-container {display: inline-block;position: relative;}</style><div id=\"sk-e452f168-4e72-4b1c-991c-2778c26256b3\" class\"sk-top-container\"><div class=\"sk-container\"><div class=\"sk-item sk-dashed-wrapped\"><div class=\"sk-label-container\"><div class=\"sk-label sk-toggleable\"><input class=\"sk-toggleable__control sk-hidden--visually\" id=\"17fc44db-c355-4b7d-ab00-112bb208aab1\" type=\"checkbox\" ><label class=\"sk-toggleable__label\" for=\"17fc44db-c355-4b7d-ab00-112bb208aab1\">ColumnTransformer</label><div class=\"sk-toggleable__content\"><pre>ColumnTransformer(transformers=[('num_transformer',\n",
       "                                 Pipeline(steps=[('scaler', RobustScaler())]),\n",
       "                                 Index(['duration_min', 'budget', 'number_of_awards_won',\n",
       "       'number_of_nominations', 'has_collection', 'number_of_top_productions'],\n",
       "      dtype='object')),\n",
       "                                ('cat_transformer',\n",
       "                                 Pipeline(steps=[('ohe',\n",
       "                                                  OneHotEncoder(handle_unknown='ignore'))]),\n",
       "                                 ['original_language', 'status', 'all_genres',\n",
       "                                  'top_countries', 'available_in_english'])])</pre></div></div></div><div class=\"sk-parallel\"><div class=\"sk-parallel-item\"><div class=\"sk-item\"><div class=\"sk-label-container\"><div class=\"sk-label sk-toggleable\"><input class=\"sk-toggleable__control sk-hidden--visually\" id=\"4ac101d6-9f03-4bb1-b49a-4e824861a2d5\" type=\"checkbox\" ><label class=\"sk-toggleable__label\" for=\"4ac101d6-9f03-4bb1-b49a-4e824861a2d5\">num_transformer</label><div class=\"sk-toggleable__content\"><pre>Index(['duration_min', 'budget', 'number_of_awards_won',\n",
       "       'number_of_nominations', 'has_collection', 'number_of_top_productions'],\n",
       "      dtype='object')</pre></div></div></div><div class=\"sk-serial\"><div class=\"sk-item\"><div class=\"sk-serial\"><div class=\"sk-item\"><div class=\"sk-estimator sk-toggleable\"><input class=\"sk-toggleable__control sk-hidden--visually\" id=\"a7305f74-6cda-4feb-ba9a-eb864bda881a\" type=\"checkbox\" ><label class=\"sk-toggleable__label\" for=\"a7305f74-6cda-4feb-ba9a-eb864bda881a\">RobustScaler</label><div class=\"sk-toggleable__content\"><pre>RobustScaler()</pre></div></div></div></div></div></div></div></div><div class=\"sk-parallel-item\"><div class=\"sk-item\"><div class=\"sk-label-container\"><div class=\"sk-label sk-toggleable\"><input class=\"sk-toggleable__control sk-hidden--visually\" id=\"1e55304a-aec6-4df7-ad6a-567fb86aca3d\" type=\"checkbox\" ><label class=\"sk-toggleable__label\" for=\"1e55304a-aec6-4df7-ad6a-567fb86aca3d\">cat_transformer</label><div class=\"sk-toggleable__content\"><pre>['original_language', 'status', 'all_genres', 'top_countries', 'available_in_english']</pre></div></div></div><div class=\"sk-serial\"><div class=\"sk-item\"><div class=\"sk-serial\"><div class=\"sk-item\"><div class=\"sk-estimator sk-toggleable\"><input class=\"sk-toggleable__control sk-hidden--visually\" id=\"368cc110-f1e5-4ad6-b5b4-35321372b7e6\" type=\"checkbox\" ><label class=\"sk-toggleable__label\" for=\"368cc110-f1e5-4ad6-b5b4-35321372b7e6\">OneHotEncoder</label><div class=\"sk-toggleable__content\"><pre>OneHotEncoder(handle_unknown='ignore')</pre></div></div></div></div></div></div></div></div></div></div></div></div>"
      ],
      "text/plain": [
       "ColumnTransformer(transformers=[('num_transformer',\n",
       "                                 Pipeline(steps=[('scaler', RobustScaler())]),\n",
       "                                 Index(['duration_min', 'budget', 'number_of_awards_won',\n",
       "       'number_of_nominations', 'has_collection', 'number_of_top_productions'],\n",
       "      dtype='object')),\n",
       "                                ('cat_transformer',\n",
       "                                 Pipeline(steps=[('ohe',\n",
       "                                                  OneHotEncoder(handle_unknown='ignore'))]),\n",
       "                                 ['original_language', 'status', 'all_genres',\n",
       "                                  'top_countries', 'available_in_english'])])"
      ]
     },
     "execution_count": 43,
     "metadata": {},
     "output_type": "execute_result"
    }
   ],
   "source": [
    "# Execute this cell to enable a nice display for your pipelines\n",
    "from sklearn import set_config; set_config(display='diagram')\n",
    "preprocessor"
   ]
  },
  {
   "cell_type": "markdown",
   "metadata": {},
   "source": [
    "**📝 Encode the features and store the result in the variable `X_basic_preprocessing`.**"
   ]
  },
  {
   "cell_type": "code",
   "execution_count": 44,
   "metadata": {
    "ExecuteTime": {
     "end_time": "2021-06-29T17:29:13.523938Z",
     "start_time": "2021-06-29T17:29:13.499042Z"
    },
    "tags": [
     "challengify"
    ]
   },
   "outputs": [
    {
     "data": {
      "text/html": [
       "<div>\n",
       "<style scoped>\n",
       "    .dataframe tbody tr th:only-of-type {\n",
       "        vertical-align: middle;\n",
       "    }\n",
       "\n",
       "    .dataframe tbody tr th {\n",
       "        vertical-align: top;\n",
       "    }\n",
       "\n",
       "    .dataframe thead th {\n",
       "        text-align: right;\n",
       "    }\n",
       "</style>\n",
       "<table border=\"1\" class=\"dataframe\">\n",
       "  <thead>\n",
       "    <tr style=\"text-align: right;\">\n",
       "      <th></th>\n",
       "      <th>0</th>\n",
       "    </tr>\n",
       "  </thead>\n",
       "  <tbody>\n",
       "    <tr>\n",
       "      <th>0</th>\n",
       "      <td>(0, 0)\\t-0.5\\n  (0, 1)\\t0.09386344277028565\\...</td>\n",
       "    </tr>\n",
       "    <tr>\n",
       "      <th>1</th>\n",
       "      <td>(0, 0)\\t0.3333333333333333\\n  (0, 1)\\t0.9073...</td>\n",
       "    </tr>\n",
       "    <tr>\n",
       "      <th>2</th>\n",
       "      <td>(0, 1)\\t-0.2409161697770665\\n  (0, 2)\\t15.83...</td>\n",
       "    </tr>\n",
       "  </tbody>\n",
       "</table>\n",
       "</div>"
      ],
      "text/plain": [
       "                                                   0\n",
       "0    (0, 0)\\t-0.5\\n  (0, 1)\\t0.09386344277028565\\...\n",
       "1    (0, 0)\\t0.3333333333333333\\n  (0, 1)\\t0.9073...\n",
       "2    (0, 1)\\t-0.2409161697770665\\n  (0, 2)\\t15.83..."
      ]
     },
     "execution_count": 44,
     "metadata": {},
     "output_type": "execute_result"
    }
   ],
   "source": [
    "X_basic_preprocessing = pd.DataFrame(preprocessor.fit_transform(X)).head(3)\n",
    "X_basic_preprocessing"
   ]
  },
  {
   "cell_type": "markdown",
   "metadata": {},
   "source": [
    "**❓ How many features has been generated by the preprocessing? What do you think about this number?**"
   ]
  },
  {
   "cell_type": "code",
   "execution_count": 47,
   "metadata": {},
   "outputs": [
    {
     "data": {
      "text/html": [
       "<div>\n",
       "<style scoped>\n",
       "    .dataframe tbody tr th:only-of-type {\n",
       "        vertical-align: middle;\n",
       "    }\n",
       "\n",
       "    .dataframe tbody tr th {\n",
       "        vertical-align: top;\n",
       "    }\n",
       "\n",
       "    .dataframe thead th {\n",
       "        text-align: right;\n",
       "    }\n",
       "</style>\n",
       "<table border=\"1\" class=\"dataframe\">\n",
       "  <thead>\n",
       "    <tr style=\"text-align: right;\">\n",
       "      <th></th>\n",
       "      <th>0</th>\n",
       "      <th>1</th>\n",
       "      <th>2</th>\n",
       "      <th>3</th>\n",
       "      <th>4</th>\n",
       "      <th>5</th>\n",
       "    </tr>\n",
       "  </thead>\n",
       "  <tbody>\n",
       "    <tr>\n",
       "      <th>0</th>\n",
       "      <td>-0.500000</td>\n",
       "      <td>0.093863</td>\n",
       "      <td>-0.333333</td>\n",
       "      <td>-0.250000</td>\n",
       "      <td>1.0</td>\n",
       "      <td>2.0</td>\n",
       "    </tr>\n",
       "    <tr>\n",
       "      <th>1</th>\n",
       "      <td>0.333333</td>\n",
       "      <td>0.907347</td>\n",
       "      <td>-0.166667</td>\n",
       "      <td>-0.250000</td>\n",
       "      <td>1.0</td>\n",
       "      <td>0.0</td>\n",
       "    </tr>\n",
       "    <tr>\n",
       "      <th>2</th>\n",
       "      <td>0.000000</td>\n",
       "      <td>-0.240916</td>\n",
       "      <td>15.833333</td>\n",
       "      <td>11.666667</td>\n",
       "      <td>0.0</td>\n",
       "      <td>-1.0</td>\n",
       "    </tr>\n",
       "  </tbody>\n",
       "</table>\n",
       "</div>"
      ],
      "text/plain": [
       "          0         1          2          3    4    5\n",
       "0 -0.500000  0.093863  -0.333333  -0.250000  1.0  2.0\n",
       "1  0.333333  0.907347  -0.166667  -0.250000  1.0  0.0\n",
       "2  0.000000 -0.240916  15.833333  11.666667  0.0 -1.0"
      ]
     },
     "execution_count": 47,
     "metadata": {},
     "output_type": "execute_result"
    }
   ],
   "source": [
    "pipe_num = Pipeline([\n",
    "    ('scaler', RobustScaler())\n",
    "    ])\n",
    "preprocessor1 = ColumnTransformer([\n",
    "    ('num_transformer', pipe_num,numerical)\n",
    "    ]) \n",
    "pd.DataFrame(preprocessor1.fit_transform(X)).head(3)"
   ]
  },
  {
   "cell_type": "code",
   "execution_count": 56,
   "metadata": {},
   "outputs": [
    {
     "data": {
      "text/html": [
       "<div>\n",
       "<style scoped>\n",
       "    .dataframe tbody tr th:only-of-type {\n",
       "        vertical-align: middle;\n",
       "    }\n",
       "\n",
       "    .dataframe tbody tr th {\n",
       "        vertical-align: top;\n",
       "    }\n",
       "\n",
       "    .dataframe thead th {\n",
       "        text-align: right;\n",
       "    }\n",
       "</style>\n",
       "<table border=\"1\" class=\"dataframe\">\n",
       "  <thead>\n",
       "    <tr style=\"text-align: right;\">\n",
       "      <th></th>\n",
       "      <th>0</th>\n",
       "    </tr>\n",
       "  </thead>\n",
       "  <tbody>\n",
       "    <tr>\n",
       "      <th>0</th>\n",
       "      <td>(0, 1)\\t1.0\\n  (0, 12)\\t1.0</td>\n",
       "    </tr>\n",
       "    <tr>\n",
       "      <th>1</th>\n",
       "      <td>(0, 1)\\t1.0\\n  (0, 12)\\t1.0</td>\n",
       "    </tr>\n",
       "    <tr>\n",
       "      <th>2</th>\n",
       "      <td>(0, 1)\\t1.0\\n  (0, 12)\\t1.0</td>\n",
       "    </tr>\n",
       "  </tbody>\n",
       "</table>\n",
       "</div>"
      ],
      "text/plain": [
       "                               0\n",
       "0    (0, 1)\\t1.0\\n  (0, 12)\\t1.0\n",
       "1    (0, 1)\\t1.0\\n  (0, 12)\\t1.0\n",
       "2    (0, 1)\\t1.0\\n  (0, 12)\\t1.0"
      ]
     },
     "execution_count": 56,
     "metadata": {},
     "output_type": "execute_result"
    }
   ],
   "source": [
    "pipe_cat = Pipeline([\n",
    "    ('ohe',OneHotEncoder(handle_unknown='ignore'))\n",
    "    ])\n",
    "preprocessor2 = ColumnTransformer([\n",
    "    ('cat_transformer', pipe_cat,['available_in_english',,'status','all_genres','top_countries',])   \n",
    "    ])  \n",
    "pd.DataFrame(preprocessor2.fit_transform(X)).head(3)"
   ]
  },
  {
   "cell_type": "code",
   "execution_count": null,
   "metadata": {},
   "outputs": [],
   "source": [
    "#remainder=drop by default otherwise 'passthrough' so remainder is dropped"
   ]
  },
  {
   "cell_type": "markdown",
   "metadata": {
    "tags": [
     "challengify"
    ]
   },
   "source": [
    "# My answer: since there is a problem with the cat features, I can't see the number of it"
   ]
  },
  {
   "cell_type": "markdown",
   "metadata": {},
   "source": [
    "#### Modeling pipeline\n",
    "\n",
    "Let's add a model to our pipe. With so many features one-hot-encoded, we **need a model which can act as a feature selector**\n",
    "\n",
    "👉 A linear model regularized with L1 penalty is a good starting point.\n",
    "\n",
    "\n",
    "**📝 Create a `basic_pipeline` which encapsulate the `basic_preprocessing` pipeline + a linear model with a L1 penalty**\n",
    "\n",
    "- store the resulting pipeline as `basic_pipeline`\n",
    "- don't fine-tune it\n",
    "\n",
    "\n",
    "<details>\n",
    "    <summary>Hints</summary>\n",
    "\n",
    "Choose your model from the list [here](https://scikit-learn.org/stable/modules/classes.html#module-sklearn.linear_model)\n",
    "\n",
    "</details>"
   ]
  },
  {
   "cell_type": "code",
   "execution_count": 45,
   "metadata": {
    "ExecuteTime": {
     "end_time": "2021-06-29T17:29:13.614429Z",
     "start_time": "2021-06-29T17:29:13.609607Z"
    },
    "tags": [
     "challengify"
    ]
   },
   "outputs": [
    {
     "data": {
      "text/html": [
       "<style>#sk-c725cd53-2f85-4d98-9aaa-04f4e84f69ec {color: black;background-color: white;}#sk-c725cd53-2f85-4d98-9aaa-04f4e84f69ec pre{padding: 0;}#sk-c725cd53-2f85-4d98-9aaa-04f4e84f69ec div.sk-toggleable {background-color: white;}#sk-c725cd53-2f85-4d98-9aaa-04f4e84f69ec label.sk-toggleable__label {cursor: pointer;display: block;width: 100%;margin-bottom: 0;padding: 0.2em 0.3em;box-sizing: border-box;text-align: center;}#sk-c725cd53-2f85-4d98-9aaa-04f4e84f69ec div.sk-toggleable__content {max-height: 0;max-width: 0;overflow: hidden;text-align: left;background-color: #f0f8ff;}#sk-c725cd53-2f85-4d98-9aaa-04f4e84f69ec div.sk-toggleable__content pre {margin: 0.2em;color: black;border-radius: 0.25em;background-color: #f0f8ff;}#sk-c725cd53-2f85-4d98-9aaa-04f4e84f69ec input.sk-toggleable__control:checked~div.sk-toggleable__content {max-height: 200px;max-width: 100%;overflow: auto;}#sk-c725cd53-2f85-4d98-9aaa-04f4e84f69ec div.sk-estimator input.sk-toggleable__control:checked~label.sk-toggleable__label {background-color: #d4ebff;}#sk-c725cd53-2f85-4d98-9aaa-04f4e84f69ec div.sk-label input.sk-toggleable__control:checked~label.sk-toggleable__label {background-color: #d4ebff;}#sk-c725cd53-2f85-4d98-9aaa-04f4e84f69ec input.sk-hidden--visually {border: 0;clip: rect(1px 1px 1px 1px);clip: rect(1px, 1px, 1px, 1px);height: 1px;margin: -1px;overflow: hidden;padding: 0;position: absolute;width: 1px;}#sk-c725cd53-2f85-4d98-9aaa-04f4e84f69ec div.sk-estimator {font-family: monospace;background-color: #f0f8ff;margin: 0.25em 0.25em;border: 1px dotted black;border-radius: 0.25em;box-sizing: border-box;}#sk-c725cd53-2f85-4d98-9aaa-04f4e84f69ec div.sk-estimator:hover {background-color: #d4ebff;}#sk-c725cd53-2f85-4d98-9aaa-04f4e84f69ec div.sk-parallel-item::after {content: \"\";width: 100%;border-bottom: 1px solid gray;flex-grow: 1;}#sk-c725cd53-2f85-4d98-9aaa-04f4e84f69ec div.sk-label:hover label.sk-toggleable__label {background-color: #d4ebff;}#sk-c725cd53-2f85-4d98-9aaa-04f4e84f69ec div.sk-serial::before {content: \"\";position: absolute;border-left: 1px solid gray;box-sizing: border-box;top: 2em;bottom: 0;left: 50%;}#sk-c725cd53-2f85-4d98-9aaa-04f4e84f69ec div.sk-serial {display: flex;flex-direction: column;align-items: center;background-color: white;}#sk-c725cd53-2f85-4d98-9aaa-04f4e84f69ec div.sk-item {z-index: 1;}#sk-c725cd53-2f85-4d98-9aaa-04f4e84f69ec div.sk-parallel {display: flex;align-items: stretch;justify-content: center;background-color: white;}#sk-c725cd53-2f85-4d98-9aaa-04f4e84f69ec div.sk-parallel-item {display: flex;flex-direction: column;position: relative;background-color: white;}#sk-c725cd53-2f85-4d98-9aaa-04f4e84f69ec div.sk-parallel-item:first-child::after {align-self: flex-end;width: 50%;}#sk-c725cd53-2f85-4d98-9aaa-04f4e84f69ec div.sk-parallel-item:last-child::after {align-self: flex-start;width: 50%;}#sk-c725cd53-2f85-4d98-9aaa-04f4e84f69ec div.sk-parallel-item:only-child::after {width: 0;}#sk-c725cd53-2f85-4d98-9aaa-04f4e84f69ec div.sk-dashed-wrapped {border: 1px dashed gray;margin: 0.2em;box-sizing: border-box;padding-bottom: 0.1em;background-color: white;position: relative;}#sk-c725cd53-2f85-4d98-9aaa-04f4e84f69ec div.sk-label label {font-family: monospace;font-weight: bold;background-color: white;display: inline-block;line-height: 1.2em;}#sk-c725cd53-2f85-4d98-9aaa-04f4e84f69ec div.sk-label-container {position: relative;z-index: 2;text-align: center;}#sk-c725cd53-2f85-4d98-9aaa-04f4e84f69ec div.sk-container {display: inline-block;position: relative;}</style><div id=\"sk-c725cd53-2f85-4d98-9aaa-04f4e84f69ec\" class\"sk-top-container\"><div class=\"sk-container\"><div class=\"sk-item sk-dashed-wrapped\"><div class=\"sk-label-container\"><div class=\"sk-label sk-toggleable\"><input class=\"sk-toggleable__control sk-hidden--visually\" id=\"70ab02a8-9e40-4d33-91e2-afb8159cb977\" type=\"checkbox\" ><label class=\"sk-toggleable__label\" for=\"70ab02a8-9e40-4d33-91e2-afb8159cb977\">Pipeline</label><div class=\"sk-toggleable__content\"><pre>Pipeline(steps=[('preprocessing',\n",
       "                 ColumnTransformer(transformers=[('num_transformer',\n",
       "                                                  Pipeline(steps=[('scaler',\n",
       "                                                                   RobustScaler())]),\n",
       "                                                  Index(['duration_min', 'budget', 'number_of_awards_won',\n",
       "       'number_of_nominations', 'has_collection', 'number_of_top_productions'],\n",
       "      dtype='object')),\n",
       "                                                 ('cat_transformer',\n",
       "                                                  Pipeline(steps=[('ohe',\n",
       "                                                                   OneHotEncoder(handle_unknown='ignore'))]),\n",
       "                                                  ['original_language',\n",
       "                                                   'status', 'all_genres',\n",
       "                                                   'top_countries',\n",
       "                                                   'available_in_english'])])),\n",
       "                ('linear_regression', Ridge())])</pre></div></div></div><div class=\"sk-serial\"><div class=\"sk-item sk-dashed-wrapped\"><div class=\"sk-label-container\"><div class=\"sk-label sk-toggleable\"><input class=\"sk-toggleable__control sk-hidden--visually\" id=\"90d81c06-6f64-414a-bba8-b5b2085efd59\" type=\"checkbox\" ><label class=\"sk-toggleable__label\" for=\"90d81c06-6f64-414a-bba8-b5b2085efd59\">preprocessing: ColumnTransformer</label><div class=\"sk-toggleable__content\"><pre>ColumnTransformer(transformers=[('num_transformer',\n",
       "                                 Pipeline(steps=[('scaler', RobustScaler())]),\n",
       "                                 Index(['duration_min', 'budget', 'number_of_awards_won',\n",
       "       'number_of_nominations', 'has_collection', 'number_of_top_productions'],\n",
       "      dtype='object')),\n",
       "                                ('cat_transformer',\n",
       "                                 Pipeline(steps=[('ohe',\n",
       "                                                  OneHotEncoder(handle_unknown='ignore'))]),\n",
       "                                 ['original_language', 'status', 'all_genres',\n",
       "                                  'top_countries', 'available_in_english'])])</pre></div></div></div><div class=\"sk-parallel\"><div class=\"sk-parallel-item\"><div class=\"sk-item\"><div class=\"sk-label-container\"><div class=\"sk-label sk-toggleable\"><input class=\"sk-toggleable__control sk-hidden--visually\" id=\"949b5cf0-ab90-4474-afb3-8b888346f206\" type=\"checkbox\" ><label class=\"sk-toggleable__label\" for=\"949b5cf0-ab90-4474-afb3-8b888346f206\">num_transformer</label><div class=\"sk-toggleable__content\"><pre>Index(['duration_min', 'budget', 'number_of_awards_won',\n",
       "       'number_of_nominations', 'has_collection', 'number_of_top_productions'],\n",
       "      dtype='object')</pre></div></div></div><div class=\"sk-serial\"><div class=\"sk-item\"><div class=\"sk-serial\"><div class=\"sk-item\"><div class=\"sk-estimator sk-toggleable\"><input class=\"sk-toggleable__control sk-hidden--visually\" id=\"93d3d063-9859-4b0f-9dad-324ac724756b\" type=\"checkbox\" ><label class=\"sk-toggleable__label\" for=\"93d3d063-9859-4b0f-9dad-324ac724756b\">RobustScaler</label><div class=\"sk-toggleable__content\"><pre>RobustScaler()</pre></div></div></div></div></div></div></div></div><div class=\"sk-parallel-item\"><div class=\"sk-item\"><div class=\"sk-label-container\"><div class=\"sk-label sk-toggleable\"><input class=\"sk-toggleable__control sk-hidden--visually\" id=\"a183b552-9176-4d00-a2c2-35c104192182\" type=\"checkbox\" ><label class=\"sk-toggleable__label\" for=\"a183b552-9176-4d00-a2c2-35c104192182\">cat_transformer</label><div class=\"sk-toggleable__content\"><pre>['original_language', 'status', 'all_genres', 'top_countries', 'available_in_english']</pre></div></div></div><div class=\"sk-serial\"><div class=\"sk-item\"><div class=\"sk-serial\"><div class=\"sk-item\"><div class=\"sk-estimator sk-toggleable\"><input class=\"sk-toggleable__control sk-hidden--visually\" id=\"260af90f-408d-4342-ab67-5b2c210469fb\" type=\"checkbox\" ><label class=\"sk-toggleable__label\" for=\"260af90f-408d-4342-ab67-5b2c210469fb\">OneHotEncoder</label><div class=\"sk-toggleable__content\"><pre>OneHotEncoder(handle_unknown='ignore')</pre></div></div></div></div></div></div></div></div></div></div><div class=\"sk-item\"><div class=\"sk-estimator sk-toggleable\"><input class=\"sk-toggleable__control sk-hidden--visually\" id=\"de55ae59-c624-4e7c-a875-0f04ee2e265a\" type=\"checkbox\" ><label class=\"sk-toggleable__label\" for=\"de55ae59-c624-4e7c-a875-0f04ee2e265a\">Ridge</label><div class=\"sk-toggleable__content\"><pre>Ridge()</pre></div></div></div></div></div></div></div>"
      ],
      "text/plain": [
       "Pipeline(steps=[('preprocessing',\n",
       "                 ColumnTransformer(transformers=[('num_transformer',\n",
       "                                                  Pipeline(steps=[('scaler',\n",
       "                                                                   RobustScaler())]),\n",
       "                                                  Index(['duration_min', 'budget', 'number_of_awards_won',\n",
       "       'number_of_nominations', 'has_collection', 'number_of_top_productions'],\n",
       "      dtype='object')),\n",
       "                                                 ('cat_transformer',\n",
       "                                                  Pipeline(steps=[('ohe',\n",
       "                                                                   OneHotEncoder(handle_unknown='ignore'))]),\n",
       "                                                  ['original_language',\n",
       "                                                   'status', 'all_genres',\n",
       "                                                   'top_countries',\n",
       "                                                   'available_in_english'])])),\n",
       "                ('linear_regression', Ridge())])"
      ]
     },
     "execution_count": 45,
     "metadata": {},
     "output_type": "execute_result"
    }
   ],
   "source": [
    "from sklearn.linear_model import Ridge\n",
    "\n",
    "pipe_num = Pipeline([\n",
    "    ('scaler', RobustScaler())\n",
    "    ])    \n",
    "pipe_cat = Pipeline([\n",
    "    ('ohe',OneHotEncoder(handle_unknown='ignore'))\n",
    "    ])\n",
    "# preprocessor\n",
    "basic_preprocessing = ColumnTransformer([\n",
    "    ('num_transformer', pipe_num,numerical), \n",
    "    ('cat_transformer', pipe_cat,['original_language', 'status', 'all_genres', 'top_countries','available_in_english'])   \n",
    "    ]) \n",
    "# Combine preprocessing and linear model in pipeline\n",
    "basic_pipeline = Pipeline([\n",
    "    ('preprocessing', basic_preprocessing),\n",
    "    ('linear_regression', Ridge())]) \n",
    "\n",
    "basic_pipeline"
   ]
  },
  {
   "cell_type": "markdown",
   "metadata": {},
   "source": [
    "### Cross-validated baseline\n",
    "\n",
    "**📝 Perform a cross-validated evaluation of your baseline model using the metric you defined above. Store the results of this evaluation as an `array` of floating scores in the `basic_scores` variable.**"
   ]
  },
  {
   "cell_type": "code",
   "execution_count": 61,
   "metadata": {
    "ExecuteTime": {
     "end_time": "2021-06-29T17:29:13.834847Z",
     "start_time": "2021-06-29T17:29:13.634994Z"
    },
    "scrolled": false,
    "tags": [
     "challengify"
    ]
   },
   "outputs": [
    {
     "name": "stderr",
     "output_type": "stream",
     "text": [
      "/Users/Dandan/.pyenv/versions/3.8.6/envs/lewagon/lib/python3.8/site-packages/sklearn/model_selection/_validation.py:615: FitFailedWarning: Estimator fit failed. The score on this train-test partition for these parameters will be set to nan. Details: \n",
      "Traceback (most recent call last):\n",
      "  File \"/Users/Dandan/.pyenv/versions/3.8.6/envs/lewagon/lib/python3.8/site-packages/sklearn/model_selection/_validation.py\", line 598, in _fit_and_score\n",
      "    estimator.fit(X_train, y_train, **fit_params)\n",
      "  File \"/Users/Dandan/.pyenv/versions/3.8.6/envs/lewagon/lib/python3.8/site-packages/sklearn/linear_model/_base.py\", line 518, in fit\n",
      "    X, y = self._validate_data(X, y, accept_sparse=accept_sparse,\n",
      "  File \"/Users/Dandan/.pyenv/versions/3.8.6/envs/lewagon/lib/python3.8/site-packages/sklearn/base.py\", line 433, in _validate_data\n",
      "    X, y = check_X_y(X, y, **check_params)\n",
      "  File \"/Users/Dandan/.pyenv/versions/3.8.6/envs/lewagon/lib/python3.8/site-packages/sklearn/utils/validation.py\", line 63, in inner_f\n",
      "    return f(*args, **kwargs)\n",
      "  File \"/Users/Dandan/.pyenv/versions/3.8.6/envs/lewagon/lib/python3.8/site-packages/sklearn/utils/validation.py\", line 871, in check_X_y\n",
      "    X = check_array(X, accept_sparse=accept_sparse,\n",
      "  File \"/Users/Dandan/.pyenv/versions/3.8.6/envs/lewagon/lib/python3.8/site-packages/sklearn/utils/validation.py\", line 63, in inner_f\n",
      "    return f(*args, **kwargs)\n",
      "  File \"/Users/Dandan/.pyenv/versions/3.8.6/envs/lewagon/lib/python3.8/site-packages/sklearn/utils/validation.py\", line 673, in check_array\n",
      "    array = np.asarray(array, order=order, dtype=dtype)\n",
      "  File \"/Users/Dandan/.pyenv/versions/3.8.6/envs/lewagon/lib/python3.8/site-packages/numpy/core/_asarray.py\", line 85, in asarray\n",
      "    return array(a, dtype, copy=False, order=order)\n",
      "  File \"/Users/Dandan/.pyenv/versions/3.8.6/envs/lewagon/lib/python3.8/site-packages/pandas/core/generic.py\", line 1899, in __array__\n",
      "    return np.asarray(self._values, dtype=dtype)\n",
      "  File \"/Users/Dandan/.pyenv/versions/3.8.6/envs/lewagon/lib/python3.8/site-packages/numpy/core/_asarray.py\", line 85, in asarray\n",
      "    return array(a, dtype, copy=False, order=order)\n",
      "ValueError: could not convert string to float: 'The Crying Game'\n",
      "\n",
      "  warnings.warn(\"Estimator fit failed. The score on this train-test\"\n",
      "/Users/Dandan/.pyenv/versions/3.8.6/envs/lewagon/lib/python3.8/site-packages/sklearn/model_selection/_validation.py:615: FitFailedWarning: Estimator fit failed. The score on this train-test partition for these parameters will be set to nan. Details: \n",
      "Traceback (most recent call last):\n",
      "  File \"/Users/Dandan/.pyenv/versions/3.8.6/envs/lewagon/lib/python3.8/site-packages/sklearn/model_selection/_validation.py\", line 598, in _fit_and_score\n",
      "    estimator.fit(X_train, y_train, **fit_params)\n",
      "  File \"/Users/Dandan/.pyenv/versions/3.8.6/envs/lewagon/lib/python3.8/site-packages/sklearn/linear_model/_base.py\", line 518, in fit\n",
      "    X, y = self._validate_data(X, y, accept_sparse=accept_sparse,\n",
      "  File \"/Users/Dandan/.pyenv/versions/3.8.6/envs/lewagon/lib/python3.8/site-packages/sklearn/base.py\", line 433, in _validate_data\n",
      "    X, y = check_X_y(X, y, **check_params)\n",
      "  File \"/Users/Dandan/.pyenv/versions/3.8.6/envs/lewagon/lib/python3.8/site-packages/sklearn/utils/validation.py\", line 63, in inner_f\n",
      "    return f(*args, **kwargs)\n",
      "  File \"/Users/Dandan/.pyenv/versions/3.8.6/envs/lewagon/lib/python3.8/site-packages/sklearn/utils/validation.py\", line 871, in check_X_y\n",
      "    X = check_array(X, accept_sparse=accept_sparse,\n",
      "  File \"/Users/Dandan/.pyenv/versions/3.8.6/envs/lewagon/lib/python3.8/site-packages/sklearn/utils/validation.py\", line 63, in inner_f\n",
      "    return f(*args, **kwargs)\n",
      "  File \"/Users/Dandan/.pyenv/versions/3.8.6/envs/lewagon/lib/python3.8/site-packages/sklearn/utils/validation.py\", line 673, in check_array\n",
      "    array = np.asarray(array, order=order, dtype=dtype)\n",
      "  File \"/Users/Dandan/.pyenv/versions/3.8.6/envs/lewagon/lib/python3.8/site-packages/numpy/core/_asarray.py\", line 85, in asarray\n",
      "    return array(a, dtype, copy=False, order=order)\n",
      "  File \"/Users/Dandan/.pyenv/versions/3.8.6/envs/lewagon/lib/python3.8/site-packages/pandas/core/generic.py\", line 1899, in __array__\n",
      "    return np.asarray(self._values, dtype=dtype)\n",
      "  File \"/Users/Dandan/.pyenv/versions/3.8.6/envs/lewagon/lib/python3.8/site-packages/numpy/core/_asarray.py\", line 85, in asarray\n",
      "    return array(a, dtype, copy=False, order=order)\n",
      "ValueError: could not convert string to float: 'Hot Tub Time Machine 2'\n",
      "\n",
      "  warnings.warn(\"Estimator fit failed. The score on this train-test\"\n",
      "/Users/Dandan/.pyenv/versions/3.8.6/envs/lewagon/lib/python3.8/site-packages/sklearn/model_selection/_validation.py:615: FitFailedWarning: Estimator fit failed. The score on this train-test partition for these parameters will be set to nan. Details: \n",
      "Traceback (most recent call last):\n",
      "  File \"/Users/Dandan/.pyenv/versions/3.8.6/envs/lewagon/lib/python3.8/site-packages/sklearn/model_selection/_validation.py\", line 598, in _fit_and_score\n",
      "    estimator.fit(X_train, y_train, **fit_params)\n",
      "  File \"/Users/Dandan/.pyenv/versions/3.8.6/envs/lewagon/lib/python3.8/site-packages/sklearn/linear_model/_base.py\", line 518, in fit\n",
      "    X, y = self._validate_data(X, y, accept_sparse=accept_sparse,\n",
      "  File \"/Users/Dandan/.pyenv/versions/3.8.6/envs/lewagon/lib/python3.8/site-packages/sklearn/base.py\", line 433, in _validate_data\n",
      "    X, y = check_X_y(X, y, **check_params)\n",
      "  File \"/Users/Dandan/.pyenv/versions/3.8.6/envs/lewagon/lib/python3.8/site-packages/sklearn/utils/validation.py\", line 63, in inner_f\n",
      "    return f(*args, **kwargs)\n",
      "  File \"/Users/Dandan/.pyenv/versions/3.8.6/envs/lewagon/lib/python3.8/site-packages/sklearn/utils/validation.py\", line 871, in check_X_y\n",
      "    X = check_array(X, accept_sparse=accept_sparse,\n",
      "  File \"/Users/Dandan/.pyenv/versions/3.8.6/envs/lewagon/lib/python3.8/site-packages/sklearn/utils/validation.py\", line 63, in inner_f\n",
      "    return f(*args, **kwargs)\n",
      "  File \"/Users/Dandan/.pyenv/versions/3.8.6/envs/lewagon/lib/python3.8/site-packages/sklearn/utils/validation.py\", line 673, in check_array\n",
      "    array = np.asarray(array, order=order, dtype=dtype)\n",
      "  File \"/Users/Dandan/.pyenv/versions/3.8.6/envs/lewagon/lib/python3.8/site-packages/numpy/core/_asarray.py\", line 85, in asarray\n",
      "    return array(a, dtype, copy=False, order=order)\n",
      "  File \"/Users/Dandan/.pyenv/versions/3.8.6/envs/lewagon/lib/python3.8/site-packages/pandas/core/generic.py\", line 1899, in __array__\n",
      "    return np.asarray(self._values, dtype=dtype)\n",
      "  File \"/Users/Dandan/.pyenv/versions/3.8.6/envs/lewagon/lib/python3.8/site-packages/numpy/core/_asarray.py\", line 85, in asarray\n",
      "    return array(a, dtype, copy=False, order=order)\n",
      "ValueError: could not convert string to float: 'Hot Tub Time Machine 2'\n",
      "\n",
      "  warnings.warn(\"Estimator fit failed. The score on this train-test\"\n",
      "/Users/Dandan/.pyenv/versions/3.8.6/envs/lewagon/lib/python3.8/site-packages/sklearn/model_selection/_validation.py:615: FitFailedWarning: Estimator fit failed. The score on this train-test partition for these parameters will be set to nan. Details: \n",
      "Traceback (most recent call last):\n",
      "  File \"/Users/Dandan/.pyenv/versions/3.8.6/envs/lewagon/lib/python3.8/site-packages/sklearn/model_selection/_validation.py\", line 598, in _fit_and_score\n",
      "    estimator.fit(X_train, y_train, **fit_params)\n",
      "  File \"/Users/Dandan/.pyenv/versions/3.8.6/envs/lewagon/lib/python3.8/site-packages/sklearn/linear_model/_base.py\", line 518, in fit\n",
      "    X, y = self._validate_data(X, y, accept_sparse=accept_sparse,\n",
      "  File \"/Users/Dandan/.pyenv/versions/3.8.6/envs/lewagon/lib/python3.8/site-packages/sklearn/base.py\", line 433, in _validate_data\n",
      "    X, y = check_X_y(X, y, **check_params)\n",
      "  File \"/Users/Dandan/.pyenv/versions/3.8.6/envs/lewagon/lib/python3.8/site-packages/sklearn/utils/validation.py\", line 63, in inner_f\n",
      "    return f(*args, **kwargs)\n",
      "  File \"/Users/Dandan/.pyenv/versions/3.8.6/envs/lewagon/lib/python3.8/site-packages/sklearn/utils/validation.py\", line 871, in check_X_y\n",
      "    X = check_array(X, accept_sparse=accept_sparse,\n",
      "  File \"/Users/Dandan/.pyenv/versions/3.8.6/envs/lewagon/lib/python3.8/site-packages/sklearn/utils/validation.py\", line 63, in inner_f\n",
      "    return f(*args, **kwargs)\n",
      "  File \"/Users/Dandan/.pyenv/versions/3.8.6/envs/lewagon/lib/python3.8/site-packages/sklearn/utils/validation.py\", line 673, in check_array\n",
      "    array = np.asarray(array, order=order, dtype=dtype)\n",
      "  File \"/Users/Dandan/.pyenv/versions/3.8.6/envs/lewagon/lib/python3.8/site-packages/numpy/core/_asarray.py\", line 85, in asarray\n",
      "    return array(a, dtype, copy=False, order=order)\n",
      "  File \"/Users/Dandan/.pyenv/versions/3.8.6/envs/lewagon/lib/python3.8/site-packages/pandas/core/generic.py\", line 1899, in __array__\n",
      "    return np.asarray(self._values, dtype=dtype)\n",
      "  File \"/Users/Dandan/.pyenv/versions/3.8.6/envs/lewagon/lib/python3.8/site-packages/numpy/core/_asarray.py\", line 85, in asarray\n",
      "    return array(a, dtype, copy=False, order=order)\n",
      "ValueError: could not convert string to float: 'Hot Tub Time Machine 2'\n",
      "\n",
      "  warnings.warn(\"Estimator fit failed. The score on this train-test\"\n",
      "/Users/Dandan/.pyenv/versions/3.8.6/envs/lewagon/lib/python3.8/site-packages/sklearn/model_selection/_validation.py:615: FitFailedWarning: Estimator fit failed. The score on this train-test partition for these parameters will be set to nan. Details: \n",
      "Traceback (most recent call last):\n",
      "  File \"/Users/Dandan/.pyenv/versions/3.8.6/envs/lewagon/lib/python3.8/site-packages/sklearn/model_selection/_validation.py\", line 598, in _fit_and_score\n",
      "    estimator.fit(X_train, y_train, **fit_params)\n",
      "  File \"/Users/Dandan/.pyenv/versions/3.8.6/envs/lewagon/lib/python3.8/site-packages/sklearn/linear_model/_base.py\", line 518, in fit\n",
      "    X, y = self._validate_data(X, y, accept_sparse=accept_sparse,\n",
      "  File \"/Users/Dandan/.pyenv/versions/3.8.6/envs/lewagon/lib/python3.8/site-packages/sklearn/base.py\", line 433, in _validate_data\n",
      "    X, y = check_X_y(X, y, **check_params)\n",
      "  File \"/Users/Dandan/.pyenv/versions/3.8.6/envs/lewagon/lib/python3.8/site-packages/sklearn/utils/validation.py\", line 63, in inner_f\n",
      "    return f(*args, **kwargs)\n",
      "  File \"/Users/Dandan/.pyenv/versions/3.8.6/envs/lewagon/lib/python3.8/site-packages/sklearn/utils/validation.py\", line 871, in check_X_y\n",
      "    X = check_array(X, accept_sparse=accept_sparse,\n",
      "  File \"/Users/Dandan/.pyenv/versions/3.8.6/envs/lewagon/lib/python3.8/site-packages/sklearn/utils/validation.py\", line 63, in inner_f\n",
      "    return f(*args, **kwargs)\n",
      "  File \"/Users/Dandan/.pyenv/versions/3.8.6/envs/lewagon/lib/python3.8/site-packages/sklearn/utils/validation.py\", line 673, in check_array\n",
      "    array = np.asarray(array, order=order, dtype=dtype)\n",
      "  File \"/Users/Dandan/.pyenv/versions/3.8.6/envs/lewagon/lib/python3.8/site-packages/numpy/core/_asarray.py\", line 85, in asarray\n",
      "    return array(a, dtype, copy=False, order=order)\n",
      "  File \"/Users/Dandan/.pyenv/versions/3.8.6/envs/lewagon/lib/python3.8/site-packages/pandas/core/generic.py\", line 1899, in __array__\n",
      "    return np.asarray(self._values, dtype=dtype)\n",
      "  File \"/Users/Dandan/.pyenv/versions/3.8.6/envs/lewagon/lib/python3.8/site-packages/numpy/core/_asarray.py\", line 85, in asarray\n",
      "    return array(a, dtype, copy=False, order=order)\n",
      "ValueError: could not convert string to float: 'Hot Tub Time Machine 2'\n",
      "\n",
      "  warnings.warn(\"Estimator fit failed. The score on this train-test\"\n"
     ]
    },
    {
     "data": {
      "text/plain": [
       "array([nan, nan, nan, nan, nan])"
      ]
     },
     "execution_count": 61,
     "metadata": {},
     "output_type": "execute_result"
    }
   ],
   "source": [
    "from sklearn.linear_model import LinearRegression\n",
    "from sklearn.model_selection import cross_validate\n",
    "cv_results = cross_validate(LinearRegression(), X, y, cv=5, \n",
    "                            scoring=['neg_mean_absolute_error'])\n",
    "cv_results['test_neg_mean_absolute_error'] # it didn't work cause the value is nan"
   ]
  },
  {
   "cell_type": "markdown",
   "metadata": {},
   "source": [
    "### 🧪 Save your results\n",
    "\n",
    "Run the following cell to save your results"
   ]
  },
  {
   "cell_type": "code",
   "execution_count": 64,
   "metadata": {
    "ExecuteTime": {
     "end_time": "2021-06-29T17:29:13.848670Z",
     "start_time": "2021-06-29T17:29:13.844198Z"
    }
   },
   "outputs": [
    {
     "ename": "NameError",
     "evalue": "name 'basic_scores' is not defined",
     "output_type": "error",
     "traceback": [
      "\u001b[0;31m---------------------------------------------------------------------------\u001b[0m",
      "\u001b[0;31mNameError\u001b[0m                                 Traceback (most recent call last)",
      "\u001b[0;32m<ipython-input-64-1b50064d6c76>\u001b[0m in \u001b[0;36m<module>\u001b[0;34m\u001b[0m\n\u001b[1;32m      6\u001b[0m     \u001b[0mpreproc_shape\u001b[0m\u001b[0;34m=\u001b[0m\u001b[0mX_basic_preprocessing\u001b[0m\u001b[0;34m.\u001b[0m\u001b[0mshape\u001b[0m\u001b[0;34m,\u001b[0m\u001b[0;34m\u001b[0m\u001b[0;34m\u001b[0m\u001b[0m\n\u001b[1;32m      7\u001b[0m     \u001b[0mpipe\u001b[0m\u001b[0;34m=\u001b[0m\u001b[0mbasic_pipeline\u001b[0m\u001b[0;34m,\u001b[0m\u001b[0;34m\u001b[0m\u001b[0;34m\u001b[0m\u001b[0m\n\u001b[0;32m----> 8\u001b[0;31m     \u001b[0mscores\u001b[0m\u001b[0;34m=\u001b[0m\u001b[0mbasic_scores\u001b[0m\u001b[0;34m\u001b[0m\u001b[0;34m\u001b[0m\u001b[0m\n\u001b[0m\u001b[1;32m      9\u001b[0m ).write()\n",
      "\u001b[0;31mNameError\u001b[0m: name 'basic_scores' is not defined"
     ]
    }
   ],
   "source": [
    "ChallengeResult(\n",
    "    'baseline',\n",
    "    metric=scoring,\n",
    "    features=[categorical,numerical],\n",
    "    preproc=basic_preprocessing,\n",
    "    preproc_shape=X_basic_preprocessing.shape,\n",
    "    pipe=basic_pipeline,\n",
    "    scores=basic_scores\n",
    ").write()"
   ]
  },
  {
   "cell_type": "markdown",
   "metadata": {},
   "source": [
    "## Feature engineering"
   ]
  },
  {
   "cell_type": "markdown",
   "metadata": {},
   "source": [
    "### Time Features\n",
    "\n",
    "\n",
    "👉 Let's try to improve performance using the feature `release_date`, and especially its `month` and `year`.\n",
    "\n",
    "ℹ️ If you want to skip this section, you can move directly to the next one: _Advanced categorical features_."
   ]
  },
  {
   "cell_type": "markdown",
   "metadata": {},
   "source": [
    "**📝 Complete the custom transformer `TimeFeaturesExtractor` below**\n",
    "\n",
    "Running\n",
    "```python\n",
    "TimeFeaturesExtractor().fit_transform(X[['release_date']])\n",
    "``` \n",
    "should return something like\n",
    "\n",
    "|    |   month |   year |\n",
    "|---:|--------:|-------:|\n",
    "|  0 |       2 |   2015 |\n",
    "|  1 |       8 |   2004 |\n",
    "|  2 |      10 |   2014 |\n",
    "|  3 |       3 |   2012 |\n",
    "|  4 |       8 |   2012 |\n"
   ]
  },
  {
   "cell_type": "code",
   "execution_count": null,
   "metadata": {
    "ExecuteTime": {
     "end_time": "2021-06-29T17:29:13.859554Z",
     "start_time": "2021-06-29T17:29:13.855428Z"
    }
   },
   "outputs": [],
   "source": [
    "from sklearn.base import BaseEstimator, TransformerMixin\n",
    "\n",
    "class TimeFeaturesExtractor(BaseEstimator, TransformerMixin):\n",
    "    \"\"\"Extract the 2 time features from a date\"\"\"\n",
    "    \n",
    "    def fit(self, X, y=None):\n",
    "        return self\n",
    "    \n",
    "    def transform(self, X, y=None):\n",
    "        \"\"\"\n",
    "        Params:\n",
    "        X: DataFrame\n",
    "        y: Series\n",
    "        \n",
    "        Returns a DataFrame with 2 columns containing the time features as integers extracted from the release_date.\n",
    "        \"\"\"\n",
    "        pass  # YOUR CODE HERE"
   ]
  },
  {
   "cell_type": "code",
   "execution_count": null,
   "metadata": {
    "ExecuteTime": {
     "end_time": "2021-06-29T17:29:13.877264Z",
     "start_time": "2021-06-29T17:29:13.862231Z"
    }
   },
   "outputs": [],
   "source": [
    "# Try your transformer and save your new features here\n",
    "X_time_features = TimeFeaturesExtractor().fit_transform(X[['release_date']])\n",
    "X_time_features.head()"
   ]
  },
  {
   "cell_type": "markdown",
   "metadata": {},
   "source": [
    "We still have 2 problems to solve\n",
    "- `month` is cyclical: 12 should be a close to 1 as to 11, right? \n",
    "- `year` is not scaled\n",
    "\n",
    "**📝 Build a final custom transformer `CyclicalEncoder` so that**\n",
    "\n",
    "Running\n",
    "```python\n",
    "CyclicalEncoder().fit_transform(X_time_features)\n",
    "``` \n",
    "should return something like this\n",
    "\n",
    "|    |    month_cos |   month_sin |      year |\n",
    "|---:|-------------:|------------:|----------:|\n",
    "|  0 |  0.5         |    0.866025 | 0.0466039 |\n",
    "|  1 | -0.5         |   -0.866025 | 0.0411502 |\n",
    "|  2 |  0.5         |   -0.866025 | 0.0461081 |\n",
    "|  3 |  6.12323e-17 |    1        | 0.0451165 |\n",
    "|  4 | -0.5         |   -0.866025 | 0.0451165 |\n",
    "\n",
    "With the cyclical encoding is done as below\n",
    "- `month_cos = 2 * math.pi / 12 * X[['month']] `\n",
    "- `month_sin = 2 * math.pi / 12 * X[['month']] `\n",
    "\n",
    "And the `year` begin min-max scaled"
   ]
  },
  {
   "cell_type": "code",
   "execution_count": null,
   "metadata": {
    "ExecuteTime": {
     "end_time": "2021-06-29T17:29:13.884690Z",
     "start_time": "2021-06-29T17:29:13.879274Z"
    }
   },
   "outputs": [],
   "source": [
    "from sklearn.base import BaseEstimator, TransformerMixin\n",
    "import math\n",
    "\n",
    "class CyclicalEncoder(BaseEstimator, TransformerMixin):\n",
    "    \"\"\"\n",
    "    Encode a cyclical feature\n",
    "    \"\"\"\n",
    "    \n",
    "    def __init__(self):\n",
    "        pass\n",
    "\n",
    "    def fit(self, X, y=None):\n",
    "        \"\"\"\n",
    "        Compute here what you need for the transform phase and store it as instance variable\n",
    "        \"\"\"\n",
    "        pass  # YOUR CODE HERE\n",
    "\n",
    "    def transform(self, X, y=None):\n",
    "        \"\"\"\n",
    "        Compute and returns the final DataFrame\n",
    "        \"\"\"\n",
    "        pass  # YOUR CODE HERE"
   ]
  },
  {
   "cell_type": "code",
   "execution_count": null,
   "metadata": {
    "ExecuteTime": {
     "end_time": "2021-06-29T17:29:13.899004Z",
     "start_time": "2021-06-29T17:29:13.886894Z"
    }
   },
   "outputs": [],
   "source": [
    "# Try your transformer and save your new features here\n",
    "X_time_cyclical = CyclicalEncoder().fit_transform(X_time_features)\n",
    "X_time_cyclical.head()"
   ]
  },
  {
   "cell_type": "code",
   "execution_count": null,
   "metadata": {
    "ExecuteTime": {
     "end_time": "2021-06-29T17:29:14.052971Z",
     "start_time": "2021-06-29T17:29:13.900696Z"
    }
   },
   "outputs": [],
   "source": [
    "# Check that this form a circle with 12 points\n",
    "plt.scatter(X_time_cyclical['month_cos'],\n",
    "            X_time_cyclical['month_sin'])\n",
    "plt.xlabel(\"month_cos\"); plt.ylabel(\"month_sin\");"
   ]
  },
  {
   "cell_type": "markdown",
   "metadata": {},
   "source": [
    "**📝 Enhance your `basic_pipeline` with a new preprocessing including both `TimeFeaturesExtractor` and `CyclicalFeatureExtractor`:**\n",
    "\n",
    "- Just use `TimeFeatureExtractor` if you haven't had time to do the `Cyclical` one\n",
    "- Store this new pipeline as `time_pipeline`\n",
    "- Keep same estimator for now"
   ]
  },
  {
   "cell_type": "code",
   "execution_count": null,
   "metadata": {
    "ExecuteTime": {
     "end_time": "2021-06-29T17:29:14.077345Z",
     "start_time": "2021-06-29T17:29:14.054521Z"
    },
    "tags": [
     "challengify"
    ]
   },
   "outputs": [],
   "source": [
    "# YOUR CODE HERE"
   ]
  },
  {
   "cell_type": "markdown",
   "metadata": {},
   "source": [
    "### Advanced categorical encoder to reduce the number of features\n",
    "\n",
    "ℹ️ Most of it has already been coded for you and it shouldn't take long. Still if you want to skip it and move to the next section: _Model Tuning_"
   ]
  },
  {
   "cell_type": "markdown",
   "metadata": {},
   "source": [
    "👉 We need to reduce the number of features to one-hot-encode, which arise from the high cardinality of `all_genres` and `top_countries`"
   ]
  },
  {
   "cell_type": "code",
   "execution_count": null,
   "metadata": {
    "ExecuteTime": {
     "end_time": "2021-06-29T17:29:14.191964Z",
     "start_time": "2021-06-29T17:29:14.184044Z"
    }
   },
   "outputs": [],
   "source": [
    "X[['all_genres', 'top_countries']].nunique()"
   ]
  },
  {
   "cell_type": "markdown",
   "metadata": {},
   "source": [
    "👇 Both share a common pattern: there can be more than 1 country and more than 1 genre per movie."
   ]
  },
  {
   "cell_type": "code",
   "execution_count": null,
   "metadata": {
    "ExecuteTime": {
     "end_time": "2021-06-29T17:29:14.201275Z",
     "start_time": "2021-06-29T17:29:14.193459Z"
    }
   },
   "outputs": [],
   "source": [
    "X[['all_genres', 'top_countries']].tail()"
   ]
  },
  {
   "cell_type": "markdown",
   "metadata": {},
   "source": [
    "👉 Run the cell below where we have coded for you a custom transformer `CustomGenreAndCountryEncoder` which: \n",
    "- Select the 10 most frequent genres and the 5 most frequent countries\n",
    "- Encode `all_genres` into 10 One Hot Encoded features\n",
    "- Encode `top_countries` into 5 One Hot Encoded features"
   ]
  },
  {
   "cell_type": "code",
   "execution_count": null,
   "metadata": {
    "ExecuteTime": {
     "end_time": "2021-06-29T17:29:14.210953Z",
     "start_time": "2021-06-29T17:29:14.202791Z"
    }
   },
   "outputs": [],
   "source": [
    "from collections import Counter\n",
    "from sklearn.base import BaseEstimator, TransformerMixin\n",
    "\n",
    "class CustomGenreAndCountryEncoder(BaseEstimator, TransformerMixin):\n",
    "    \"\"\"\n",
    "    Encoding the all_genres and top_companies features which are multi-categorical :\n",
    "    a movie has several possible genres and countries of productions!\n",
    "    \"\"\"\n",
    "\n",
    "    def __init__(self):\n",
    "        pass\n",
    "\n",
    "    def fit(self, X, y=None):\n",
    "        \"\"\"\n",
    "        compute top genres and top countries of productions from all_genres and top_countries features\n",
    "        \"\"\"\n",
    "\n",
    "        # compute top 10 genres       \n",
    "        list_of_genres = list(X['all_genres'].apply(lambda x: [i.strip() for i in x.split(\",\")] if x != [''] else []).values)\n",
    "        top_genres = [m[0] for m in Counter([i for j in list_of_genres for i in j]).most_common(10)]\n",
    "\n",
    "        # save top_genres in dedicated instance variable\n",
    "        self.top_genres = top_genres\n",
    "        \n",
    "         # compute top 5 countries       \n",
    "        list_of_countries = list(X['top_countries'].apply(lambda x: [i.strip() for i in x.split(\",\")] if x != [''] else []).values)\n",
    "        top_countries = [m[0] for m in Counter([i for j in list_of_countries for i in j]).most_common(5)]\n",
    "\n",
    "        # save top_countries in dedicated instance variable\n",
    "        self.top_countries = top_countries\n",
    "\n",
    "        return self\n",
    "\n",
    "    def transform(self, X, y=None):\n",
    "        \"\"\"\n",
    "        encoding genre and country\n",
    "        \"\"\"\n",
    "        X_new = X.copy()\n",
    "        for genre in self.top_genres:\n",
    "            X_new['genre_' + genre] = X_new['all_genres'].apply(lambda x: 1 if genre in x else 0)\n",
    "        X_new = X_new.drop(columns=[\"all_genres\"])\n",
    "        for country in self.top_countries:\n",
    "            X_new['country_' + country] = X_new['top_countries'].apply(lambda x: 1 if country in x else 0)\n",
    "        X_new = X_new.drop(columns=[\"top_countries\"])\n",
    "        return X_new"
   ]
  },
  {
   "cell_type": "code",
   "execution_count": null,
   "metadata": {
    "ExecuteTime": {
     "end_time": "2021-06-29T17:29:14.289418Z",
     "start_time": "2021-06-29T17:29:14.212506Z"
    }
   },
   "outputs": [],
   "source": [
    "# Check it out\n",
    "X_custom = CustomGenreAndCountryEncoder().fit_transform(X[['all_genres', 'top_countries']])\n",
    "print(X_custom.shape)\n",
    "X_custom.head()"
   ]
  },
  {
   "cell_type": "markdown",
   "metadata": {},
   "source": [
    "**📝 Compute your `final_pipeline` by integrating all these transformers** (or all those you have coded)\n",
    "\n",
    "- `CustomGenreAndCountryEncoder`\n",
    "- `TimeFeaturesExtractor`\n",
    "- `CyclicalFeatureExtractor`"
   ]
  },
  {
   "cell_type": "code",
   "execution_count": null,
   "metadata": {
    "ExecuteTime": {
     "end_time": "2021-06-29T17:29:14.316693Z",
     "start_time": "2021-06-29T17:29:14.291225Z"
    },
    "tags": [
     "challengify"
    ]
   },
   "outputs": [],
   "source": [
    "# YOUR CODE HERE"
   ]
  },
  {
   "cell_type": "markdown",
   "metadata": {},
   "source": [
    "📝 **Compute and store its cross validated scores as `final_scores` array of floats**\n",
    "\n",
    "- It does not necessarily improve the performance before we can try-out doing model tuning\n",
    "- However, with a now limited number of features, we will be able to train more complex models in next section (ensemble...)"
   ]
  },
  {
   "cell_type": "markdown",
   "metadata": {},
   "source": [
    "### 🧪 Save your result\n",
    "\n",
    "Run the following cell to save your results."
   ]
  },
  {
   "cell_type": "code",
   "execution_count": null,
   "metadata": {
    "ExecuteTime": {
     "end_time": "2021-06-29T17:29:15.204479Z",
     "start_time": "2021-06-29T17:29:15.198198Z"
    }
   },
   "outputs": [],
   "source": [
    "ChallengeResult(\n",
    "    'feature_engineering',\n",
    "    X_time_features=X_time_features,\n",
    "    X_time_cyclical= X_time_cyclical,\n",
    "    time_pipeline=time_pipeline,\n",
    "    final_pipeline=final_pipeline,\n",
    "    final_scores=final_scores\n",
    ").write()\n",
    "\n",
    "# Hint: Try restarting your notebook if you obtain an error about saving a custom encoder"
   ]
  },
  {
   "cell_type": "markdown",
   "metadata": {},
   "source": [
    "## Model tuning"
   ]
  },
  {
   "cell_type": "markdown",
   "metadata": {},
   "source": [
    "### Random Forest"
   ]
  },
  {
   "cell_type": "markdown",
   "metadata": {},
   "source": [
    "📝 **Change the estimator of your `final_pipeline` by a Random Forest and checkout your new cross-validated score**"
   ]
  },
  {
   "cell_type": "code",
   "execution_count": null,
   "metadata": {
    "ExecuteTime": {
     "end_time": "2021-06-29T17:29:19.391364Z",
     "start_time": "2021-06-29T17:29:15.206532Z"
    },
    "tags": [
     "challengify"
    ]
   },
   "outputs": [],
   "source": [
    "# YOUR CODE HERE"
   ]
  },
  {
   "cell_type": "markdown",
   "metadata": {},
   "source": [
    "### Best hyperparameters quest\n",
    "\n",
    "\n",
    "\n",
    "**📝 Fine tune your model to try to get the best performance in the minimum amount of time!**\n",
    "\n",
    "- Store the result of your search inside the `search` variable.\n",
    "- Store your 5 cross-validated scores inside `best_scores` array of floats"
   ]
  },
  {
   "cell_type": "code",
   "execution_count": null,
   "metadata": {
    "ExecuteTime": {
     "end_time": "2021-06-29T17:29:19.431573Z",
     "start_time": "2021-06-29T17:29:19.394891Z"
    },
    "tags": [
     "challengify"
    ]
   },
   "outputs": [],
   "source": [
    "# YOUR CODE HERE"
   ]
  },
  {
   "cell_type": "markdown",
   "metadata": {},
   "source": [
    "**📝 Re-train your best pipeline on the whole (X,y) dataset**\n",
    "- Store the trained pipeline inside the `best_pipeline` variable"
   ]
  },
  {
   "cell_type": "code",
   "execution_count": null,
   "metadata": {
    "ExecuteTime": {
     "end_time": "2021-06-29T17:30:18.200730Z",
     "start_time": "2021-06-29T17:30:14.992877Z"
    },
    "tags": [
     "challengify"
    ]
   },
   "outputs": [],
   "source": [
    "# YOUR CODE HERE"
   ]
  },
  {
   "cell_type": "markdown",
   "metadata": {},
   "source": [
    "### Prediction\n",
    "\n",
    "Now you have your model tuned with the best hyperparameters, you are ready for a prediction.\n",
    "\n",
    "Here is a famous TV show released in 2017:\n",
    "\n",
    "```python\n",
    "dict(\n",
    "        original_title=str(\"La Casa de Papel\"),\n",
    "        title=str(\"Money Heist\"), \n",
    "        release_date= pd.to_datetime([\"2017-05-02\"]), \n",
    "        duration_min=float(50),\n",
    "        description=str(\"An unusual group of robbers attempt to carry out the most perfect robbery\"), \n",
    "        budget=float(3_000_000), \n",
    "        original_language =str(\"es\"), \n",
    "        status=str(\"Released\"),\n",
    "        number_of_awards_won =int(2), \n",
    "        number_of_nominations=int(5), \n",
    "        has_collection=int(1),\n",
    "        all_genres=str(\"Action, Crime, Mystery\"), \n",
    "        top_countries=str(\"Spain, France, United States of America\"), \n",
    "        number_of_top_productions=int('1'),\n",
    "        available_in_english=bool('True') \n",
    ")\n",
    "```\n",
    "\n",
    "**📝 Compute the predicted popularity of this TV show and store it into the `popularity` variable as a floating number.**"
   ]
  },
  {
   "cell_type": "code",
   "execution_count": null,
   "metadata": {
    "ExecuteTime": {
     "end_time": "2021-06-29T17:30:18.209145Z",
     "start_time": "2021-06-29T17:30:18.202809Z"
    },
    "tags": [
     "challengify"
    ]
   },
   "outputs": [],
   "source": [
    "# YOUR CODE HERE"
   ]
  },
  {
   "cell_type": "code",
   "execution_count": null,
   "metadata": {
    "ExecuteTime": {
     "end_time": "2021-06-29T17:30:18.293267Z",
     "start_time": "2021-06-29T17:30:18.211979Z"
    },
    "tags": [
     "challengify"
    ]
   },
   "outputs": [],
   "source": [
    "# YOUR CODE HERE"
   ]
  },
  {
   "cell_type": "markdown",
   "metadata": {},
   "source": [
    "### 🧪 Save your results\n",
    "\n",
    "Run the following cell to save your results."
   ]
  },
  {
   "cell_type": "code",
   "execution_count": null,
   "metadata": {
    "ExecuteTime": {
     "end_time": "2021-06-29T17:30:18.492068Z",
     "start_time": "2021-06-29T17:30:18.294946Z"
    }
   },
   "outputs": [],
   "source": [
    "ChallengeResult(\n",
    "    \"model_tuning\",\n",
    "    search=search,\n",
    "    best_pipeline=best_pipeline,\n",
    "    best_scores = best_scores,\n",
    "    popularity=popularity\n",
    ").write()"
   ]
  },
  {
   "cell_type": "markdown",
   "metadata": {},
   "source": [
    "## API \n",
    "\n",
    "Time to put a pipeline in production!\n",
    "\n",
    "👉 Go to https://github.com/lewagon/data-certification-api and follow instructions\n",
    "\n",
    "**This final part is independent from the above notebook**"
   ]
  }
 ],
 "metadata": {
  "interpreter": {
   "hash": "572b4e543617d03e90ecaf525e08695da1ff29b13594f787e33b342cf572f792"
  },
  "kernelspec": {
   "display_name": "Python 3",
   "language": "python",
   "name": "python3"
  },
  "language_info": {
   "codemirror_mode": {
    "name": "ipython",
    "version": 3
   },
   "file_extension": ".py",
   "mimetype": "text/x-python",
   "name": "python",
   "nbconvert_exporter": "python",
   "pygments_lexer": "ipython3",
   "version": "3.8.6"
  },
  "toc": {
   "base_numbering": 1,
   "nav_menu": {},
   "number_sections": true,
   "sideBar": true,
   "skip_h1_title": true,
   "title_cell": "Table of Contents",
   "title_sidebar": "Contents",
   "toc_cell": false,
   "toc_position": {
    "height": "calc(100% - 180px)",
    "left": "10px",
    "top": "150px",
    "width": "242px"
   },
   "toc_section_display": true,
   "toc_window_display": true
  },
  "varInspector": {
   "cols": {
    "lenName": 16,
    "lenType": 16,
    "lenVar": 40
   },
   "kernels_config": {
    "python": {
     "delete_cmd_postfix": "",
     "delete_cmd_prefix": "del ",
     "library": "var_list.py",
     "varRefreshCmd": "print(var_dic_list())"
    },
    "r": {
     "delete_cmd_postfix": ") ",
     "delete_cmd_prefix": "rm(",
     "library": "var_list.r",
     "varRefreshCmd": "cat(var_dic_list()) "
    }
   },
   "types_to_exclude": [
    "module",
    "function",
    "builtin_function_or_method",
    "instance",
    "_Feature"
   ],
   "window_display": false
  }
 },
 "nbformat": 4,
 "nbformat_minor": 4
}
